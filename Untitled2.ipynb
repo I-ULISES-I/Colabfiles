{
  "nbformat": 4,
  "nbformat_minor": 0,
  "metadata": {
    "colab": {
      "provenance": [],
      "mount_file_id": "1fuVwxuuEFr-doEut7J5JLmmog9PjGw7H",
      "authorship_tag": "ABX9TyM4YURYA5uvusfp7M2IiztA",
      "include_colab_link": true
    },
    "kernelspec": {
      "name": "python3",
      "display_name": "Python 3"
    },
    "language_info": {
      "name": "python"
    }
  },
  "cells": [
    {
      "cell_type": "markdown",
      "metadata": {
        "id": "view-in-github",
        "colab_type": "text"
      },
      "source": [
        "<a href=\"https://colab.research.google.com/github/I-ULISES-I/Colabfiles/blob/main/Untitled2.ipynb\" target=\"_parent\"><img src=\"https://colab.research.google.com/assets/colab-badge.svg\" alt=\"Open In Colab\"/></a>"
      ]
    },
    {
      "cell_type": "markdown",
      "source": [
        "# **EJEMPLO DE CONEXION DE GOOGLE DRIVE A GOOGLE COLAB**"
      ],
      "metadata": {
        "id": "j5Q0BrqAoV59"
      }
    },
    {
      "cell_type": "code",
      "source": [
        "print('Hola que tal')"
      ],
      "metadata": {
        "colab": {
          "base_uri": "https://localhost:8080/"
        },
        "id": "sMprsRC1orJ9",
        "outputId": "a5982c58-9e9e-4ce4-f637-398cbd9e1932"
      },
      "execution_count": 1,
      "outputs": [
        {
          "output_type": "stream",
          "name": "stdout",
          "text": [
            "Hola que tal\n"
          ]
        }
      ]
    },
    {
      "cell_type": "code",
      "source": [
        "print('Hola')"
      ],
      "metadata": {
        "colab": {
          "base_uri": "https://localhost:8080/"
        },
        "id": "Zj9eTiZDv78_",
        "outputId": "79afe3b9-38d2-4dc6-f75c-ceabc22182fa"
      },
      "execution_count": 2,
      "outputs": [
        {
          "output_type": "stream",
          "name": "stdout",
          "text": [
            "Hola\n"
          ]
        }
      ]
    }
  ]
}