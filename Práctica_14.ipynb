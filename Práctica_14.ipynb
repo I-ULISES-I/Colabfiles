{
  "nbformat": 4,
  "nbformat_minor": 0,
  "metadata": {
    "colab": {
      "provenance": [],
      "mount_file_id": "19JezZ5bR6k6ghOymgQW2dXb8zPtHQ-Jq",
      "authorship_tag": "ABX9TyO6yn5GKOE+Qf7MbBOz/UZ2",
      "include_colab_link": true
    },
    "kernelspec": {
      "name": "python3",
      "display_name": "Python 3"
    },
    "language_info": {
      "name": "python"
    }
  },
  "cells": [
    {
      "cell_type": "markdown",
      "metadata": {
        "id": "view-in-github",
        "colab_type": "text"
      },
      "source": [
        "<a href=\"https://colab.research.google.com/github/I-ULISES-I/Colabfiles/blob/main/Pr%C3%A1ctica_14.ipynb\" target=\"_parent\"><img src=\"https://colab.research.google.com/assets/colab-badge.svg\" alt=\"Open In Colab\"/></a>"
      ]
    },
    {
      "cell_type": "markdown",
      "source": [
        "# **Práctica #14. Limpieza y Transformación de Datos Categóricos**"
      ],
      "metadata": {
        "id": "LABuv4Or_DkJ"
      }
    },
    {
      "cell_type": "code",
      "source": [
        "#Importación de la librería Pandas.\n",
        "import pandas as pd\n",
        "\n",
        "#Carga del archivo.\n",
        "df = pd.read_csv('drive/MyDrive/ClassFiles/nls97.csv',index_col=0)"
      ],
      "metadata": {
        "id": "zyRE2zZrFn8Q"
      },
      "execution_count": 58,
      "outputs": []
    },
    {
      "cell_type": "markdown",
      "source": [
        "# Ejercicio 01: Errores Tipográficos y Valores Inconsistentes: maritalstatus"
      ],
      "metadata": {
        "id": "II_st-PxDLd8"
      }
    },
    {
      "cell_type": "code",
      "source": [
        "#Impresión de los valores únicos.\n",
        "print(df['maritalstatus'].unique())\n",
        "\n",
        "#Impresión de la frecuencia de los valores únicos.\n",
        "print(df['maritalstatus'].value_counts())\n",
        "\n",
        "#Cambio de los valores.\n",
        "df['maritalstatus'] = df['maritalstatus'].replace('Never-married', 'Single')\n",
        "\n",
        "#Impresión de la frecuencia de los valores únicos.\n",
        "print(df['maritalstatus'].value_counts())"
      ],
      "metadata": {
        "colab": {
          "base_uri": "https://localhost:8080/"
        },
        "id": "_63NlCU7GB7I",
        "outputId": "cb8a0263-f676-4c58-a134-dc48c0d0ed96"
      },
      "execution_count": 59,
      "outputs": [
        {
          "output_type": "stream",
          "name": "stdout",
          "text": [
            "['Married' 'Never-married' nan 'Divorced' 'Separated' 'Widowed']\n",
            "maritalstatus\n",
            "Married          3066\n",
            "Never-married    2766\n",
            "Divorced          663\n",
            "Separated         154\n",
            "Widowed            23\n",
            "Name: count, dtype: int64\n",
            "maritalstatus\n",
            "Married      3066\n",
            "Single       2766\n",
            "Divorced      663\n",
            "Separated     154\n",
            "Widowed        23\n",
            "Name: count, dtype: int64\n"
          ]
        }
      ]
    },
    {
      "cell_type": "markdown",
      "source": [
        "# Ejercicio 02: Errores Tipográficos y Valores Inconsistentes: highestdegree"
      ],
      "metadata": {
        "id": "Gz4BHjsLEdtA"
      }
    },
    {
      "cell_type": "code",
      "source": [
        "#Impresión de los valores únicos.\n",
        "print(df['highestdegree'].unique())\n",
        "\n",
        "#Impresión de la frecuencia de los valores únicos.\n",
        "print(df['highestdegree'].value_counts())\n",
        "\n",
        "#Modificación de las categorías.\n",
        "df['highestdegree'] = df['highestdegree'].str.lower().replace({r'[0-9]\\.? ': ''}, regex=True)\n",
        "\n",
        "#Impresión de los valores únicos.\n",
        "print(df['highestdegree'].unique())"
      ],
      "metadata": {
        "colab": {
          "base_uri": "https://localhost:8080/"
        },
        "id": "XqIOZXHMK56k",
        "outputId": "278c880d-9c8d-48e7-8c11-1cedfe6423c4"
      },
      "execution_count": 60,
      "outputs": [
        {
          "output_type": "stream",
          "name": "stdout",
          "text": [
            "['2. High School' '0. None' '4. Bachelors' '3. Associates' '5. Masters'\n",
            " '1. GED' '7. Professional' '6. PhD' nan]\n",
            "highestdegree\n",
            "2. High School     3667\n",
            "4. Bachelors       1673\n",
            "1. GED             1146\n",
            "0. None             953\n",
            "3. Associates       737\n",
            "5. Masters          603\n",
            "7. Professional     120\n",
            "6. PhD               54\n",
            "Name: count, dtype: int64\n",
            "['high school' 'none' 'bachelors' 'associates' 'masters' 'ged'\n",
            " 'professional' 'phd' nan]\n"
          ]
        }
      ]
    },
    {
      "cell_type": "markdown",
      "source": [
        "# Ejercicio 03: Alta Cardinalidad - Frecuencias Bajas."
      ],
      "metadata": {
        "id": "1pop6mksEnRm"
      }
    },
    {
      "cell_type": "code",
      "source": [
        "#Unión de las categorías y creación de la columna.\n",
        "df['marital_grouped'] = df['maritalstatus'].replace({'Widowed': 'Single/No Partner', 'Single': 'Single/No Partner'})\n",
        "\n",
        "#Impresión de los valores únicos.\n",
        "print(df['marital_grouped'].unique())\n",
        "\n",
        "#Impresión de la frecuencia de los valores únicos.\n",
        "print(df['marital_grouped'].value_counts())"
      ],
      "metadata": {
        "colab": {
          "base_uri": "https://localhost:8080/"
        },
        "id": "kCT9doqLhR25",
        "outputId": "0612a395-32cc-4e28-b953-7ba3e5def0fd"
      },
      "execution_count": 61,
      "outputs": [
        {
          "output_type": "stream",
          "name": "stdout",
          "text": [
            "['Married' 'Single/No Partner' nan 'Divorced' 'Separated']\n",
            "marital_grouped\n",
            "Married              3066\n",
            "Single/No Partner    2789\n",
            "Divorced              663\n",
            "Separated             154\n",
            "Name: count, dtype: int64\n"
          ]
        }
      ]
    },
    {
      "cell_type": "markdown",
      "source": [
        "# Ejercicio 04: Tipos de Datos."
      ],
      "metadata": {
        "id": "LPR84Sa4Evp3"
      }
    },
    {
      "cell_type": "code",
      "source": [
        "#Impresión del tipo de dato.\n",
        "print(df['gender'].dtypes)\n",
        "\n",
        "#Impresión de la cantidad de bytes.\n",
        "print(df['gender'].memory_usage(deep=True))\n",
        "\n",
        "#Modificación del tipo de dato.\n",
        "df['gender'] = df['gender'].astype('category')\n",
        "\n",
        "#Impresión de la cantidad de bytes.\n",
        "print(df['gender'].memory_usage(deep=True))"
      ],
      "metadata": {
        "colab": {
          "base_uri": "https://localhost:8080/"
        },
        "id": "6gYQZqqFkZM9",
        "outputId": "0e99b8d5-f842-4caf-f119-b8daee147123"
      },
      "execution_count": 62,
      "outputs": [
        {
          "output_type": "stream",
          "name": "stdout",
          "text": [
            "object\n",
            "628666\n",
            "81088\n"
          ]
        }
      ]
    }
  ]
}