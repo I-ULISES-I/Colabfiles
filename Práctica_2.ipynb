{
  "nbformat": 4,
  "nbformat_minor": 0,
  "metadata": {
    "colab": {
      "provenance": [],
      "mount_file_id": "1Yw68wiLGbl_7PWrhV1wraKB3GOCc4s2I",
      "authorship_tag": "ABX9TyMEJFuA1MxMXba3atPmGNTd",
      "include_colab_link": true
    },
    "kernelspec": {
      "name": "python3",
      "display_name": "Python 3"
    },
    "language_info": {
      "name": "python"
    }
  },
  "cells": [
    {
      "cell_type": "markdown",
      "metadata": {
        "id": "view-in-github",
        "colab_type": "text"
      },
      "source": [
        "<a href=\"https://colab.research.google.com/github/I-ULISES-I/Colabfiles/blob/main/Pr%C3%A1ctica_2.ipynb\" target=\"_parent\"><img src=\"https://colab.research.google.com/assets/colab-badge.svg\" alt=\"Open In Colab\"/></a>"
      ]
    },
    {
      "cell_type": "markdown",
      "source": [
        "# **Práctica #2. Expresiones Regulares con Archivos**"
      ],
      "metadata": {
        "id": "lGQLPuDHPZcy"
      }
    },
    {
      "cell_type": "markdown",
      "source": [
        "# Extracción de Información con Expresiones Regulares"
      ],
      "metadata": {
        "id": "PmxmkeJ-P37x"
      }
    },
    {
      "cell_type": "markdown",
      "source": [
        "**Objetivo:** Analizar información del archivo \"informe_acciones.txt\"."
      ],
      "metadata": {
        "id": "faurjT3MQzPA"
      }
    },
    {
      "cell_type": "code",
      "execution_count": 99,
      "metadata": {
        "colab": {
          "base_uri": "https://localhost:8080/"
        },
        "id": "uCLoq0FgFfho",
        "outputId": "9442b130-bd68-4512-f4d9-b11d528b676b"
      },
      "outputs": [
        {
          "output_type": "stream",
          "name": "stdout",
          "text": [
            "Empresa                                Fecha más reciente      Valor Máx($)    Valor Mín($)    Promedio($)\n",
            "-------------------------------------  --------------------  --------------  --------------  -------------\n",
            "AT&T Inc. (T)                          2024-09-02                   1499.95          101.37        777.28\n",
            "AbbVie Inc. (ABBV)                     2024-09-02                   1493.72          104.19        811.057\n",
            "Adobe Inc. (ADBE)                      2024-09-02                   1499.69          105.72        803.034\n",
            "Alphabet Inc. (GOOGL)                  2024-09-02                   1497.57          101.77        783.62\n",
            "Amazon.com Inc. (AMZN)                 2024-09-02                   1498.27          103.83        762.747\n",
            "Apple Inc. (AAPL)                      2024-09-02                   1499.82          101.29        815.535\n",
            "Berkshire Hathaway Inc. (BRK.A)        2024-09-02                   1497.75          102.99        780.418\n",
            "Cisco Systems Inc. (CSCO)              2024-09-02                   1499.73          104.72        794.882\n",
            "Exxon Mobil Corporation (XOM)          2024-09-02                   1498.51          104.62        822.574\n",
            "Intel Corporation (INTC)               2024-09-02                   1489.2           103.85        782.316\n",
            "Johnson & Johnson (JNJ)                2024-09-02                   1495.85          106.65        811.577\n",
            "MasterCard Inc. (MA)                   2024-09-02                   1499.99          102.26        802.097\n",
            "Merck & Co., Inc. (MRK)                2024-09-02                   1495.62          102.43        804.275\n",
            "Meta Platforms Inc. (META)             2024-09-02                   1495.69          100.47        776.366\n",
            "Microsoft Corp. (MSFT)                 2024-09-02                   1494.97          104.05        819.006\n",
            "NVIDIA Corporation (NVDA)              2024-09-02                   1496.06          103.26        806.608\n",
            "Netflix Inc. (NFLX)                    2024-09-02                   1498.68          101.74        820.104\n",
            "Nike Inc. (NKE)                        2024-09-02                   1497.69          109.78        791.822\n",
            "Oracle Corporation (ORCL)              2024-09-02                   1497.32          111.36        798.131\n",
            "PayPal Holdings Inc. (PYPL)            2024-09-02                   1494.49          101.58        813.275\n",
            "Pfizer Inc. (PFE)                      2024-09-02                   1493.37          103.04        823.515\n",
            "Procter & Gamble Co. (PG)              2024-09-02                   1490.46          100.24        804.044\n",
            "Salesforce.com Inc. (CRM)              2024-09-02                   1497.8           106.33        816.631\n",
            "Tesla Inc. (TSLA)                      2024-09-02                   1499.37          108.42        819.294\n",
            "The Home Depot Inc. (HD)               2024-09-02                   1490.53          101.1         798.42\n",
            "UnitedHealth Group Incorporated (UNH)  2024-09-02                   1492.18          104.71        774.643\n",
            "Verizon Communications Inc. (VZ)       2024-09-02                   1497.71          101.04        796.795\n",
            "Visa Inc. (V)                          2024-09-02                   1499.21          101.67        803.022\n",
            "Walmart Inc. (WMT)                     2024-09-02                   1498.6           102.71        773.78\n"
          ]
        }
      ],
      "source": [
        "#Importación de la librería de expresiones regulares.\n",
        "import re\n",
        "\n",
        "#Carga del archivo.\n",
        "with open('/content/drive/MyDrive/ClassFiles/informe_acciones.txt', 'r', encoding='latin-1') as archivo:\n",
        "\n",
        "  #Listas para almacenar y crear las diferentes tablas.\n",
        "  tabla = []\n",
        "  registro = []\n",
        "  nombreempresa = []\n",
        "  tablafinal = []\n",
        "\n",
        "  #Lectura del archivo línea por línea.\n",
        "  for linea in archivo:\n",
        "    linea = linea.rstrip()\n",
        "\n",
        "  #Búsqueda y extracción de la información.\n",
        "    #Extracción del nombre.\n",
        "    nombre = re.findall(r'.+ la acción de (.+)\\S', linea)\n",
        "    if len(nombre) > 0:\n",
        "      registro.append(nombre)\n",
        "      if not nombre in nombreempresa:\n",
        "        nombreempresa.append(nombre)\n",
        "\n",
        "    #Extracción de la fecha.\n",
        "    fecha = re.findall(r'^Fecha: ([0-9].+-[0-9].-[0-9].).+', linea)\n",
        "    if len(fecha) > 0:\n",
        "      registro.append(fecha)\n",
        "\n",
        "    #Extracción del valor de la accion.\n",
        "    valor = re.findall(r'^Valor actual: .(.+)', linea)\n",
        "    if len(valor) > 0:\n",
        "      valor = float(valor[0])\n",
        "      registro.append(valor)\n",
        "      tabla.append(registro)\n",
        "      registro = []\n",
        "\n",
        "  tabla.sort()\n",
        "\n",
        "  for renglon in nombreempresa:\n",
        "    sum = 0\n",
        "    contador = 0\n",
        "    valormin = 0\n",
        "    valormax = 0\n",
        "    for renglon2 in tabla:\n",
        "      if renglon2[0] == renglon:\n",
        "        contador = contador + 1\n",
        "        sum = sum + renglon2[2]\n",
        "\n",
        "        #Busqueda del valor mínimo y máximo.\n",
        "        if contador == 1:\n",
        "          valormin = renglon2[2]\n",
        "          valormax = renglon2[2]\n",
        "        else:\n",
        "          if valormin > renglon2[2]:\n",
        "            valormin = renglon2[2]\n",
        "          if valormax < renglon2[2]:\n",
        "            valormax = renglon2[2]\n",
        "\n",
        "    #Cálculo del promedio.\n",
        "    promedio = sum / contador\n",
        "    tablafinal.append([*renglon, '2024-09-02', valormax, valormin, promedio])\n",
        "  tablafinal.sort()\n",
        "\n",
        "#Impresión de los resultados.\n",
        "from tabulate import tabulate\n",
        "print(tabulate(tablafinal, headers=[\"Empresa\", \"Fecha más reciente\", \"Valor Máx($)\", \"Valor Mín($)\", \"Promedio($)\"]))"
      ]
    }
  ]
}