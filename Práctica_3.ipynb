{
  "nbformat": 4,
  "nbformat_minor": 0,
  "metadata": {
    "colab": {
      "provenance": [],
      "toc_visible": true,
      "authorship_tag": "ABX9TyPbsAAOhndZIOCHrHNZcsjW",
      "include_colab_link": true
    },
    "kernelspec": {
      "name": "python3",
      "display_name": "Python 3"
    },
    "language_info": {
      "name": "python"
    }
  },
  "cells": [
    {
      "cell_type": "markdown",
      "metadata": {
        "id": "view-in-github",
        "colab_type": "text"
      },
      "source": [
        "<a href=\"https://colab.research.google.com/github/I-ULISES-I/Colabfiles/blob/main/Pr%C3%A1ctica_3.ipynb\" target=\"_parent\"><img src=\"https://colab.research.google.com/assets/colab-badge.svg\" alt=\"Open In Colab\"/></a>"
      ]
    },
    {
      "cell_type": "markdown",
      "source": [
        "# **Práctica #3. Creación de un Arreglo y Operaciones Básicas**"
      ],
      "metadata": {
        "id": "N11hHXSpahQd"
      }
    },
    {
      "cell_type": "code",
      "execution_count": 30,
      "metadata": {
        "colab": {
          "base_uri": "https://localhost:8080/"
        },
        "id": "-_w-rNU0aXNO",
        "outputId": "e67d20c9-f0c4-4713-9169-5172be82243b"
      },
      "outputs": [
        {
          "output_type": "stream",
          "name": "stdout",
          "text": [
            "El arreglo es: [96 77 83 87 28 91 60 35 27 88 50 27 67 41  9 68 43 26 30  1]\n",
            "El valor máximo es: 96\n",
            "El valor mínimo es: 1\n",
            "La media es: 51.7\n",
            "La suma de 10 a cada elemento es: [106  87  93  97  38 101  70  45  37  98  60  37  77  51  19  78  53  36\n",
            "  40  11]\n"
          ]
        }
      ],
      "source": [
        "#Importación de la librería NumPy\n",
        "import numpy as np\n",
        "\n",
        "#Creación del arreglo.\n",
        "arreglo = np.random.randint(1, 101, 20)\n",
        "\n",
        "#Impresión del arreglo original.\n",
        "print(\"El arreglo es:\", arreglo)\n",
        "\n",
        "#Cálculo e impresión de los resultados.\n",
        "#Búsqueda del valor máximo.\n",
        "print(\"El valor máximo es:\", np.max(arreglo))\n",
        "\n",
        "#Búsqueda del valor mínimo.\n",
        "print(\"El valor mínimo es:\", np.min(arreglo))\n",
        "\n",
        "#Cálculo de la media.\n",
        "print(\"La media es:\", np.mean(arreglo))\n",
        "\n",
        "#Suma de 10 a cada elemento.\n",
        "print(\"La suma de 10 a cada elemento es:\", arreglo + 10)"
      ]
    }
  ]
}