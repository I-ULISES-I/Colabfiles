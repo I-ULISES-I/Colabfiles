{
  "nbformat": 4,
  "nbformat_minor": 0,
  "metadata": {
    "colab": {
      "provenance": [],
      "mount_file_id": "1CgaRIbPY5V1hP9B1OpIf1swI2CINJaRQ",
      "authorship_tag": "ABX9TyNUsMd2qGJIL0mg6gQAUOUp",
      "include_colab_link": true
    },
    "kernelspec": {
      "name": "python3",
      "display_name": "Python 3"
    },
    "language_info": {
      "name": "python"
    }
  },
  "cells": [
    {
      "cell_type": "markdown",
      "metadata": {
        "id": "view-in-github",
        "colab_type": "text"
      },
      "source": [
        "<a href=\"https://colab.research.google.com/github/I-ULISES-I/Colabfiles/blob/main/Pr%C3%A1cticas_13_17.ipynb\" target=\"_parent\"><img src=\"https://colab.research.google.com/assets/colab-badge.svg\" alt=\"Open In Colab\"/></a>"
      ]
    },
    {
      "cell_type": "markdown",
      "source": [
        "# **Práctica #13: Carga de Datos**"
      ],
      "metadata": {
        "id": "Vv0Ku3c8iSnu"
      }
    },
    {
      "cell_type": "code",
      "source": [
        "#Importación de la librería Pandas.\n",
        "import pandas as pd\n",
        "\n",
        "#Carga del archivo, omitiendo la última fila.\n",
        "df = pd.read_csv('/content/drive/MyDrive/ClassFiles/miaad-nyc-r-s.csv', skipfooter=1, engine='python')\n",
        "\n",
        "#Impresión de las últimas 3 filas.\n",
        "print(df.tail(3))\n",
        "\n",
        "#Impresión de la cantidad de filas y columnas.\n",
        "print(df.shape)"
      ],
      "metadata": {
        "colab": {
          "base_uri": "https://localhost:8080/"
        },
        "id": "kFfZYosxtDdV",
        "outputId": "da3678e1-a357-427d-c561-425553dbe7b2"
      },
      "execution_count": 104,
      "outputs": [
        {
          "output_type": "stream",
          "name": "stdout",
          "text": [
            "       Unnamed: 0  BOROUGH NEIGHBORHOOD  \\\n",
            "84545        8411        5      WOODROW   \n",
            "84546        8412        5      WOODROW   \n",
            "84547        8413        5      WOODROW   \n",
            "\n",
            "                           BUILDING CLASS CATEGORY TAX CLASS AT PRESENT  \\\n",
            "84545  02 TWO FAMILY DWELLINGS                                        1   \n",
            "84546  22 STORE BUILDINGS                                             4   \n",
            "84547  35 INDOOR PUBLIC AND CULTURAL FACILITIES                       4   \n",
            "\n",
            "       BLOCK  LOT EASE-MENT BUILDING CLASS AT PRESENT                ADDRESS  \\\n",
            "84545   7351   60                                  B2       49 PITNEY AVENUE   \n",
            "84546   7100   28                                  K6  2730 ARTHUR KILL ROAD   \n",
            "84547   7105  679                                  P9      155 CLAY PIT ROAD   \n",
            "\n",
            "       ... RESIDENTIAL UNITS  COMMERCIAL UNITS  TOTAL UNITS  LAND SQUARE FEET  \\\n",
            "84545  ...                 2                 0            2              4000   \n",
            "84546  ...                 0                 7            7            208033   \n",
            "84547  ...                 0                 1            1             10796   \n",
            "\n",
            "       GROSS SQUARE FEET YEAR BUILT TAX CLASS AT TIME OF SALE  \\\n",
            "84545               1496       1925                         1   \n",
            "84546              64117       2001                         4   \n",
            "84547               2400       2006                         4   \n",
            "\n",
            "       BUILDING CLASS AT TIME OF SALE  SALE PRICE            SALE DATE  \n",
            "84545                              B2      460000  2017-07-05 00:00:00  \n",
            "84546                              K6    11693337  2016-12-21 00:00:00  \n",
            "84547                              P9       69300  2016-10-27 00:00:00  \n",
            "\n",
            "[3 rows x 22 columns]\n",
            "(84548, 22)\n"
          ]
        }
      ]
    },
    {
      "cell_type": "markdown",
      "source": [
        "# **Práctica #14: Agregar una Columna**"
      ],
      "metadata": {
        "id": "X3VXRri3iS_q"
      }
    },
    {
      "cell_type": "code",
      "source": [
        "#Impresión del nombre de las columnas.\n",
        "print(df.columns)\n",
        "\n",
        "#Renombramiento de la primera columna.\n",
        "df.rename(columns={'Unnamed: 0': 'INDEX MIIAD'}, inplace=True)\n",
        "\n",
        "#Impresión del nombre de las columnas.\n",
        "print(df.columns)"
      ],
      "metadata": {
        "colab": {
          "base_uri": "https://localhost:8080/"
        },
        "id": "6ziRPrVSyBc9",
        "outputId": "ec005807-c214-4579-d6da-4a82583c268e"
      },
      "execution_count": 105,
      "outputs": [
        {
          "output_type": "stream",
          "name": "stdout",
          "text": [
            "Index(['Unnamed: 0', 'BOROUGH', 'NEIGHBORHOOD', 'BUILDING CLASS CATEGORY',\n",
            "       'TAX CLASS AT PRESENT', 'BLOCK', 'LOT', 'EASE-MENT',\n",
            "       'BUILDING CLASS AT PRESENT', 'ADDRESS', 'APARTMENT NUMBER', 'ZIP CODE',\n",
            "       'RESIDENTIAL UNITS', 'COMMERCIAL UNITS', 'TOTAL UNITS',\n",
            "       'LAND SQUARE FEET', 'GROSS SQUARE FEET', 'YEAR BUILT',\n",
            "       'TAX CLASS AT TIME OF SALE', 'BUILDING CLASS AT TIME OF SALE',\n",
            "       'SALE PRICE', 'SALE DATE'],\n",
            "      dtype='object')\n",
            "Index(['INDEX MIIAD', 'BOROUGH', 'NEIGHBORHOOD', 'BUILDING CLASS CATEGORY',\n",
            "       'TAX CLASS AT PRESENT', 'BLOCK', 'LOT', 'EASE-MENT',\n",
            "       'BUILDING CLASS AT PRESENT', 'ADDRESS', 'APARTMENT NUMBER', 'ZIP CODE',\n",
            "       'RESIDENTIAL UNITS', 'COMMERCIAL UNITS', 'TOTAL UNITS',\n",
            "       'LAND SQUARE FEET', 'GROSS SQUARE FEET', 'YEAR BUILT',\n",
            "       'TAX CLASS AT TIME OF SALE', 'BUILDING CLASS AT TIME OF SALE',\n",
            "       'SALE PRICE', 'SALE DATE'],\n",
            "      dtype='object')\n"
          ]
        }
      ]
    },
    {
      "cell_type": "markdown",
      "source": [
        "# **Práctica #15: Normalización de los Nombres de la Columna**"
      ],
      "metadata": {
        "id": "Nhf8zNRNiTOC"
      }
    },
    {
      "cell_type": "code",
      "source": [
        "#Normalización del nombre de las columnas.\n",
        "df.columns = df.columns.str.lower().str.replace(' ', '_')\n",
        "\n",
        "#Impresión del nombre de las columnas.\n",
        "print(df.columns)"
      ],
      "metadata": {
        "colab": {
          "base_uri": "https://localhost:8080/"
        },
        "id": "5HkmhVVr6Jox",
        "outputId": "f86853d0-78e8-4832-9701-926e1158dc3f"
      },
      "execution_count": 106,
      "outputs": [
        {
          "output_type": "stream",
          "name": "stdout",
          "text": [
            "Index(['index_miiad', 'borough', 'neighborhood', 'building_class_category',\n",
            "       'tax_class_at_present', 'block', 'lot', 'ease-ment',\n",
            "       'building_class_at_present', 'address', 'apartment_number', 'zip_code',\n",
            "       'residential_units', 'commercial_units', 'total_units',\n",
            "       'land_square_feet', 'gross_square_feet', 'year_built',\n",
            "       'tax_class_at_time_of_sale', 'building_class_at_time_of_sale',\n",
            "       'sale_price', 'sale_date'],\n",
            "      dtype='object')\n"
          ]
        }
      ]
    },
    {
      "cell_type": "markdown",
      "source": [
        "# **Práctica #16: Errores en los Tipos de Datos**"
      ],
      "metadata": {
        "id": "Zxuf-VJiiTwG"
      }
    },
    {
      "cell_type": "code",
      "source": [
        "#Impresión de los tipos de datos de las columnas.\n",
        "print(df.dtypes)\n",
        "\n",
        "#Impresión de los tipos de datos de columnas específicas.\n",
        "print(\"La columna sale_price tiene tipo de dato asignado:\", df['sale_price'].dtype)\n",
        "print(\"La columna land_square_feet tiene tipo de dato asignado:\", df['land_square_feet'].dtype)\n",
        "print(\"La columna gross_square_feet tiene tipo de dato asignado:\", df['gross_square_feet'].dtype)\n",
        "\n",
        "#Conversión de los tipos de datos de columnas específicas.\n",
        "df['sale_price'] = pd.to_numeric(df['sale_price'], errors='coerce')\n",
        "df['land_square_feet'] = pd.to_numeric(df['land_square_feet'], errors='coerce')\n",
        "df['gross_square_feet'] = pd.to_numeric(df['gross_square_feet'], errors='coerce')\n",
        "df['sale_price'] = df['sale_price'].astype(float)\n",
        "df['land_square_feet'] = df['land_square_feet'].astype(float)\n",
        "df['gross_square_feet'] = df['gross_square_feet'].astype(float)\n",
        "\n",
        "#Impresión de los tipos de datos de las columnas.\n",
        "print(df.dtypes)"
      ],
      "metadata": {
        "colab": {
          "base_uri": "https://localhost:8080/"
        },
        "id": "vtvUbmVd7B3o",
        "outputId": "a2c23530-46a0-4b1b-96c1-56332a0efbf2"
      },
      "execution_count": 107,
      "outputs": [
        {
          "output_type": "stream",
          "name": "stdout",
          "text": [
            "index_miiad                        int64\n",
            "borough                            int64\n",
            "neighborhood                      object\n",
            "building_class_category           object\n",
            "tax_class_at_present              object\n",
            "block                              int64\n",
            "lot                                int64\n",
            "ease-ment                         object\n",
            "building_class_at_present         object\n",
            "address                           object\n",
            "apartment_number                  object\n",
            "zip_code                           int64\n",
            "residential_units                  int64\n",
            "commercial_units                   int64\n",
            "total_units                        int64\n",
            "land_square_feet                  object\n",
            "gross_square_feet                 object\n",
            "year_built                         int64\n",
            "tax_class_at_time_of_sale          int64\n",
            "building_class_at_time_of_sale    object\n",
            "sale_price                        object\n",
            "sale_date                         object\n",
            "dtype: object\n",
            "La columna sale_price tiene tipo de dato asignado: object\n",
            "La columna land_square_feet tiene tipo de dato asignado: object\n",
            "La columna gross_square_feet tiene tipo de dato asignado: object\n",
            "index_miiad                         int64\n",
            "borough                             int64\n",
            "neighborhood                       object\n",
            "building_class_category            object\n",
            "tax_class_at_present               object\n",
            "block                               int64\n",
            "lot                                 int64\n",
            "ease-ment                          object\n",
            "building_class_at_present          object\n",
            "address                            object\n",
            "apartment_number                   object\n",
            "zip_code                            int64\n",
            "residential_units                   int64\n",
            "commercial_units                    int64\n",
            "total_units                         int64\n",
            "land_square_feet                  float64\n",
            "gross_square_feet                 float64\n",
            "year_built                          int64\n",
            "tax_class_at_time_of_sale           int64\n",
            "building_class_at_time_of_sale     object\n",
            "sale_price                        float64\n",
            "sale_date                          object\n",
            "dtype: object\n"
          ]
        }
      ]
    },
    {
      "cell_type": "markdown",
      "source": [
        "# **Práctica #17: Genera el Diccionario de Datos del Dataframe Preprocesado. Imprime el Contenido de dicho Diccionario**"
      ],
      "metadata": {
        "id": "BZwFX9T9i-YK"
      }
    },
    {
      "cell_type": "code",
      "source": [
        "#Creación del diccionario de datos.\n",
        "diccionario_datos = pd.DataFrame({\"Nombre de la columna\": df.columns,\n",
        "                                  \"Tipo de dato\": [str(df[columna].dtype) for columna in df.columns]})\n",
        "\n",
        "#Impresión del diccionario de datos.\n",
        "print(diccionario_datos)"
      ],
      "metadata": {
        "colab": {
          "base_uri": "https://localhost:8080/"
        },
        "id": "fdILge_VBmeX",
        "outputId": "9f8c97f5-9add-422a-d8e4-78be1d698e9b"
      },
      "execution_count": 108,
      "outputs": [
        {
          "output_type": "stream",
          "name": "stdout",
          "text": [
            "              Nombre de la columna Tipo de dato\n",
            "0                      index_miiad        int64\n",
            "1                          borough        int64\n",
            "2                     neighborhood       object\n",
            "3          building_class_category       object\n",
            "4             tax_class_at_present       object\n",
            "5                            block        int64\n",
            "6                              lot        int64\n",
            "7                        ease-ment       object\n",
            "8        building_class_at_present       object\n",
            "9                          address       object\n",
            "10                apartment_number       object\n",
            "11                        zip_code        int64\n",
            "12               residential_units        int64\n",
            "13                commercial_units        int64\n",
            "14                     total_units        int64\n",
            "15                land_square_feet      float64\n",
            "16               gross_square_feet      float64\n",
            "17                      year_built        int64\n",
            "18       tax_class_at_time_of_sale        int64\n",
            "19  building_class_at_time_of_sale       object\n",
            "20                      sale_price      float64\n",
            "21                       sale_date       object\n"
          ]
        }
      ]
    }
  ]
}