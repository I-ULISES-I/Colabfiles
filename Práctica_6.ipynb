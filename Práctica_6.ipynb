{
  "nbformat": 4,
  "nbformat_minor": 0,
  "metadata": {
    "colab": {
      "provenance": [],
      "toc_visible": true,
      "mount_file_id": "14r9PUm46Mw769maEtz16RMaoGg40R0Uu",
      "authorship_tag": "ABX9TyPPIW2kpag+pbHBV0h3k3R2",
      "include_colab_link": true
    },
    "kernelspec": {
      "name": "python3",
      "display_name": "Python 3"
    },
    "language_info": {
      "name": "python"
    }
  },
  "cells": [
    {
      "cell_type": "markdown",
      "metadata": {
        "id": "view-in-github",
        "colab_type": "text"
      },
      "source": [
        "<a href=\"https://colab.research.google.com/github/I-ULISES-I/Colabfiles/blob/main/Pr%C3%A1ctica_6.ipynb\" target=\"_parent\"><img src=\"https://colab.research.google.com/assets/colab-badge.svg\" alt=\"Open In Colab\"/></a>"
      ]
    },
    {
      "cell_type": "markdown",
      "source": [
        "# **Práctica #6. Manejo de Librería Pandas**"
      ],
      "metadata": {
        "id": "Y7LUevesPKoP"
      }
    },
    {
      "cell_type": "markdown",
      "source": [
        "# Ejercicio 1: Análisis de la distribución de supervivencia por combinación de sexo y clase del pasajero."
      ],
      "metadata": {
        "id": "0DQ_cb6ehgwZ"
      }
    },
    {
      "cell_type": "code",
      "source": [
        "#Importación de la librería Pandas\n",
        "import pandas as pd\n",
        "\n",
        "#Carga del archivo.\n",
        "df = pd.read_csv('/content/drive/MyDrive/ClassFiles/titanic.csv')\n",
        "\n",
        "#Cálculo de la proporción de supervivencia para cada combinación.\n",
        "tasasupervivencia = df.groupby(['Sex', 'Pclass'])['Survived'].mean()\n",
        "\n",
        "#Identificación de la combinación con la tasa más alta.\n",
        "tasamasalta = tasasupervivencia.idxmax()\n",
        "\n",
        "#Identificación de la combinación con la tasa más baja.\n",
        "tasamasbaja = tasasupervivencia.idxmin()\n",
        "\n",
        "#Impresión de los resultados.\n",
        "print(tasasupervivencia)\n",
        "print(\"La combinación con la tasa de supervivencia más alta es:\", tasamasalta)\n",
        "print(\"La combinación con la tasa de supervivencia más baja es:\", tasamasbaja)"
      ],
      "metadata": {
        "colab": {
          "base_uri": "https://localhost:8080/"
        },
        "id": "vfqFFmGDhwMa",
        "outputId": "3b1f74bd-ab19-4b63-87ef-b3d1622ab33e"
      },
      "execution_count": 3,
      "outputs": [
        {
          "output_type": "stream",
          "name": "stdout",
          "text": [
            "Sex     Pclass\n",
            "female  1         0.968085\n",
            "        2         0.921053\n",
            "        3         0.500000\n",
            "male    1         0.368852\n",
            "        2         0.157407\n",
            "        3         0.137026\n",
            "Name: Survived, dtype: float64\n",
            "La combinación con la tasa de supervivencia más alta es: ('female', 1)\n",
            "La combinación con la tasa de supervivencia más baja es: ('male', 3)\n"
          ]
        }
      ]
    },
    {
      "cell_type": "markdown",
      "source": [
        "# Ejercicio 2: Identificación de familias grandes a bordo."
      ],
      "metadata": {
        "id": "7zxCvUeUueMC"
      }
    },
    {
      "cell_type": "code",
      "source": [
        "#Creación de la nueva columna.\n",
        "df['FamilySize'] = df['Siblings/Spouses Aboard'] + df['Parents/Children Aboard']\n",
        "\n",
        "#Filtrado de las familias grandes.\n",
        "familiagrande = df[df['FamilySize'] > 3]\n",
        "\n",
        "#Cálculo del número de pasajeros.\n",
        "numeropasajeros = familiagrande.shape[0]\n",
        "\n",
        "#Cálculo de la proporción de supervivencia.\n",
        "proporcion = familiagrande['Survived'].mean()\n",
        "\n",
        "#Impresión de los resultados.\n",
        "print(familiagrande)\n",
        "print(\"El número de pasajeros en familias grandes es:\", numeropasajeros)\n",
        "print(\"La proporción de supervivencia entre pasajeros que pertenecen a familias grandes es:\", proporcion)"
      ],
      "metadata": {
        "colab": {
          "base_uri": "https://localhost:8080/"
        },
        "id": "MjPD3__2umEh",
        "outputId": "b2d9e3a8-e9db-4d8f-a4a0-ae3d3209ac7b"
      },
      "execution_count": 4,
      "outputs": [
        {
          "output_type": "stream",
          "name": "stdout",
          "text": [
            "     Survived  Pclass                                               Name  \\\n",
            "7           0       3                      Master. Gosta Leonard Palsson   \n",
            "13          0       3                         Mr. Anders Johan Andersson   \n",
            "16          0       3                                Master. Eugene Rice   \n",
            "24          0       3                       Miss. Torborg Danira Palsson   \n",
            "25          1       3  Mrs. Carl Oscar (Selma Augusta Emilia Johansso...   \n",
            "..        ...     ...                                                ...   \n",
            "820         0       3                        Master. Urho Abraham Panula   \n",
            "842         0       3                            Mr. Douglas Bullen Sage   \n",
            "846         0       3             Master. Sigvard Harald Elias Andersson   \n",
            "859         0       3                           Miss. Dorothy Edith Sage   \n",
            "881         0       3                Mrs. William (Margaret Norton) Rice   \n",
            "\n",
            "        Sex   Age  Siblings/Spouses Aboard  Parents/Children Aboard     Fare  \\\n",
            "7      male   2.0                        3                        1  21.0750   \n",
            "13     male  39.0                        1                        5  31.2750   \n",
            "16     male   2.0                        4                        1  29.1250   \n",
            "24   female   8.0                        3                        1  21.0750   \n",
            "25   female  38.0                        1                        5  31.3875   \n",
            "..      ...   ...                      ...                      ...      ...   \n",
            "820    male   2.0                        4                        1  39.6875   \n",
            "842    male  18.0                        8                        2  69.5500   \n",
            "846    male   4.0                        4                        2  31.2750   \n",
            "859  female  14.0                        8                        2  69.5500   \n",
            "881  female  39.0                        0                        5  29.1250   \n",
            "\n",
            "     FamilySize  \n",
            "7             4  \n",
            "13            6  \n",
            "16            5  \n",
            "24            4  \n",
            "25            6  \n",
            "..          ...  \n",
            "820           5  \n",
            "842          10  \n",
            "846           6  \n",
            "859          10  \n",
            "881           5  \n",
            "\n",
            "[62 rows x 9 columns]\n",
            "El número de pasajeros en familias grandes es: 62\n",
            "La proporción de supervivencia entre pasajeros que pertenecen a familias grandes es: 0.16129032258064516\n"
          ]
        }
      ]
    },
    {
      "cell_type": "markdown",
      "source": [
        "# Ejercicio 3: Segmentación por grupos de edad."
      ],
      "metadata": {
        "id": "bN5Z7d0o2OBk"
      }
    },
    {
      "cell_type": "code",
      "source": [
        "#Creación de la función.\n",
        "def categoria_edad(edad):\n",
        "  if edad < 18:\n",
        "    return 'Menor de Edad'\n",
        "  else:\n",
        "    return 'Mayor de Edad'\n",
        "\n",
        "#Creación de la nueva columna y clasificación de los pasajeros.\n",
        "df['CategoríaEdad'] = df['Age'].apply(categoria_edad)\n",
        "\n",
        "#Impresión de los resultados.\n",
        "print(df[['Age', 'CategoríaEdad']])"
      ],
      "metadata": {
        "colab": {
          "base_uri": "https://localhost:8080/"
        },
        "id": "2zzcVtnr2T5v",
        "outputId": "275d5ec6-3279-46a5-f582-a9da6fc712fd"
      },
      "execution_count": 28,
      "outputs": [
        {
          "output_type": "stream",
          "name": "stdout",
          "text": [
            "      Age  CategoríaEdad\n",
            "0    22.0  Mayor de Edad\n",
            "1    38.0  Mayor de Edad\n",
            "2    26.0  Mayor de Edad\n",
            "3    35.0  Mayor de Edad\n",
            "4    35.0  Mayor de Edad\n",
            "..    ...            ...\n",
            "882  27.0  Mayor de Edad\n",
            "883  19.0  Mayor de Edad\n",
            "884   7.0  Menor de Edad\n",
            "885  26.0  Mayor de Edad\n",
            "886  32.0  Mayor de Edad\n",
            "\n",
            "[887 rows x 2 columns]\n"
          ]
        }
      ]
    },
    {
      "cell_type": "markdown",
      "source": [
        "# Ejercicio 4: Comparación entre promedios calculados manualmente y con Pandas."
      ],
      "metadata": {
        "id": "Zjy21z1Jj80q"
      }
    },
    {
      "cell_type": "code",
      "source": [
        "#Importación de la librería NumPy\n",
        "import numpy as np\n",
        "\n",
        "#Cálculo del promedio usando NumPy\n",
        "promnumpyedad = np.mean(df['Age'])\n",
        "promnumpytarifa = np.mean(df['Fare'])\n",
        "\n",
        "#Cálculo del promedio usando Pandas\n",
        "prompandasedad = df['Age'].mean()\n",
        "prompandastarifa = df['Fare'].mean()\n",
        "\n",
        "#Impresión de los resultados.\n",
        "print(\"Los promedios usando NumPy son:\")\n",
        "print(\"Promedio de edad: \",promnumpyedad)\n",
        "print(\"Promedio de tarifa: \",promnumpytarifa)\n",
        "print(\"Los promedios usando Pandas son:\")\n",
        "print(\"Promedio de edad: \",prompandasedad)\n",
        "print(\"Promedio de tarifa: \",prompandastarifa)"
      ],
      "metadata": {
        "colab": {
          "base_uri": "https://localhost:8080/"
        },
        "id": "uuoiff29kFuG",
        "outputId": "544fddb4-849a-4b0f-f217-60c0330c4afb"
      },
      "execution_count": 29,
      "outputs": [
        {
          "output_type": "stream",
          "name": "stdout",
          "text": [
            "Los promedios usando NumPy son:\n",
            "Promedio de edad:  29.471443066516347\n",
            "Promedio de tarifa:  32.30542018038331\n",
            "Los promedios usando Pandas son:\n",
            "Promedio de edad:  29.471443066516347\n",
            "Promedio de tarifa:  32.30542018038331\n"
          ]
        }
      ]
    },
    {
      "cell_type": "markdown",
      "source": [
        "# Ejercicio 5. Creación de intervalos de clase usando NumPy y análisis con Pandas."
      ],
      "metadata": {
        "id": "tfnXcoSBmddM"
      }
    },
    {
      "cell_type": "code",
      "source": [
        "#Búsqueda del rango mínimo y rango máximo.\n",
        "rangominimo = df['Fare'].min()\n",
        "rangomaximo = df['Fare'].max()\n",
        "\n",
        "#Creación de los intervalos.\n",
        "intervalos = np.linspace(rangominimo, rangomaximo, 6)\n",
        "\n",
        "#Creación de la nueva columna.\n",
        "df['IntervaloTarifa'] = pd.cut(df['Fare'], bins=intervalos, labels=[f'Intervalo {i+1}' for i in range(5)])\n",
        "\n",
        "#Cálculo del número de pasajeros.\n",
        "numpasajeros = df['IntervaloTarifa'].value_counts()\n",
        "\n",
        "#Cálculo de la proporción de supervivencia.\n",
        "proporcionintervalo = df.groupby('IntervaloTarifa')['Survived'].mean()\n",
        "\n",
        "#Impresión de los resultados.\n",
        "print(df)\n",
        "print(\"El número de pasajeros en cada intervalo es:\\n\", numpasajeros)\n",
        "print(\"La proporción de supervivencia por intervalo es:\\n\", proporcionintervalo)"
      ],
      "metadata": {
        "colab": {
          "base_uri": "https://localhost:8080/"
        },
        "id": "vfKKyybBmohs",
        "outputId": "cf038636-9bf4-4a31-b150-4a423163791c"
      },
      "execution_count": 26,
      "outputs": [
        {
          "output_type": "stream",
          "name": "stdout",
          "text": [
            "     Survived  Pclass                                               Name  \\\n",
            "0           0       3                             Mr. Owen Harris Braund   \n",
            "1           1       1  Mrs. John Bradley (Florence Briggs Thayer) Cum...   \n",
            "2           1       3                              Miss. Laina Heikkinen   \n",
            "3           1       1        Mrs. Jacques Heath (Lily May Peel) Futrelle   \n",
            "4           0       3                            Mr. William Henry Allen   \n",
            "..        ...     ...                                                ...   \n",
            "882         0       2                               Rev. Juozas Montvila   \n",
            "883         1       1                        Miss. Margaret Edith Graham   \n",
            "884         0       3                     Miss. Catherine Helen Johnston   \n",
            "885         1       1                               Mr. Karl Howell Behr   \n",
            "886         0       3                                 Mr. Patrick Dooley   \n",
            "\n",
            "        Sex   Age  Siblings/Spouses Aboard  Parents/Children Aboard     Fare  \\\n",
            "0      male  22.0                        1                        0   7.2500   \n",
            "1    female  38.0                        1                        0  71.2833   \n",
            "2    female  26.0                        0                        0   7.9250   \n",
            "3    female  35.0                        1                        0  53.1000   \n",
            "4      male  35.0                        0                        0   8.0500   \n",
            "..      ...   ...                      ...                      ...      ...   \n",
            "882    male  27.0                        0                        0  13.0000   \n",
            "883  female  19.0                        0                        0  30.0000   \n",
            "884  female   7.0                        1                        2  23.4500   \n",
            "885    male  26.0                        0                        0  30.0000   \n",
            "886    male  32.0                        0                        0   7.7500   \n",
            "\n",
            "     FamilySize  CategoríaEdad IntervaloTarifa  \n",
            "0             1  Mayor de Edad     Intervalo 1  \n",
            "1             1  Mayor de Edad     Intervalo 1  \n",
            "2             0  Mayor de Edad     Intervalo 1  \n",
            "3             1  Mayor de Edad     Intervalo 1  \n",
            "4             0  Mayor de Edad     Intervalo 1  \n",
            "..          ...            ...             ...  \n",
            "882           0  Mayor de Edad     Intervalo 1  \n",
            "883           0  Mayor de Edad     Intervalo 1  \n",
            "884           3  Menor de Edad     Intervalo 1  \n",
            "885           0  Mayor de Edad     Intervalo 1  \n",
            "886           0  Mayor de Edad     Intervalo 1  \n",
            "\n",
            "[887 rows x 11 columns]\n",
            "El número de pasajeros en cada intervalo es:\n",
            " IntervaloTarifa\n",
            "Intervalo 1    819\n",
            "Intervalo 2     33\n",
            "Intervalo 3     17\n",
            "Intervalo 5      3\n",
            "Intervalo 4      0\n",
            "Name: count, dtype: int64\n",
            "La proporción de supervivencia por intervalo es:\n",
            " IntervaloTarifa\n",
            "Intervalo 1    0.368742\n",
            "Intervalo 2    0.757576\n",
            "Intervalo 3    0.647059\n",
            "Intervalo 4         NaN\n",
            "Intervalo 5    1.000000\n",
            "Name: Survived, dtype: float64\n"
          ]
        },
        {
          "output_type": "stream",
          "name": "stderr",
          "text": [
            "<ipython-input-26-eb5ad67fc732>:15: FutureWarning: The default of observed=False is deprecated and will be changed to True in a future version of pandas. Pass observed=False to retain current behavior or observed=True to adopt the future default and silence this warning.\n",
            "  proporcionintervalo = df.groupby('IntervaloTarifa')['Survived'].mean()\n"
          ]
        }
      ]
    }
  ]
}