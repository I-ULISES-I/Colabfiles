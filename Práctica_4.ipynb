{
  "nbformat": 4,
  "nbformat_minor": 0,
  "metadata": {
    "colab": {
      "provenance": [],
      "toc_visible": true,
      "authorship_tag": "ABX9TyPK2bBJJ/vtj6cfioemeBJ0",
      "include_colab_link": true
    },
    "kernelspec": {
      "name": "python3",
      "display_name": "Python 3"
    },
    "language_info": {
      "name": "python"
    }
  },
  "cells": [
    {
      "cell_type": "markdown",
      "metadata": {
        "id": "view-in-github",
        "colab_type": "text"
      },
      "source": [
        "<a href=\"https://colab.research.google.com/github/I-ULISES-I/Colabfiles/blob/main/Pr%C3%A1ctica_4.ipynb\" target=\"_parent\"><img src=\"https://colab.research.google.com/assets/colab-badge.svg\" alt=\"Open In Colab\"/></a>"
      ]
    },
    {
      "cell_type": "markdown",
      "source": [
        "# **Práctica #4. Manipulación de Matrices**"
      ],
      "metadata": {
        "id": "wNv7l3qYek-a"
      }
    },
    {
      "cell_type": "code",
      "execution_count": 32,
      "metadata": {
        "colab": {
          "base_uri": "https://localhost:8080/"
        },
        "id": "tk944cUkejF2",
        "outputId": "5330b50d-1375-4202-8572-f1f1bb4a3b3c"
      },
      "outputs": [
        {
          "output_type": "stream",
          "name": "stdout",
          "text": [
            "Matriz A:\n",
            "[[3 7 5]\n",
            " [3 1 6]\n",
            " [3 4 1]]\n",
            "Matriz B:\n",
            "[[10  9  4]\n",
            " [ 7  4  8]\n",
            " [ 1  9  8]]\n",
            "La suma de las matrices es:\n",
            " [[13 16  9]\n",
            " [10  5 14]\n",
            " [ 4 13  9]]\n",
            "La resta de la matriz B a la matriz A es:\n",
            " [[-7 -2  1]\n",
            " [-4 -3 -2]\n",
            " [ 2 -5 -7]]\n",
            "La multiplicación de la matriz A por 2 es:\n",
            " [[ 6 14 10]\n",
            " [ 6  2 12]\n",
            " [ 6  8  2]]\n",
            "La multiplicación matricial de A por B es:\n",
            " [[ 84 100 108]\n",
            " [ 43  85  68]\n",
            " [ 59  52  52]]\n"
          ]
        }
      ],
      "source": [
        "#Importación de la librería NumPy\n",
        "import numpy as np\n",
        "\n",
        "#Creación de las matrices.\n",
        "matrizA = np.random.randint(1, 11, (3, 3))\n",
        "matrizB = np.random.randint(1, 11, (3, 3))\n",
        "\n",
        "#Impresión de las matrices.\n",
        "print(\"Matriz A:\")\n",
        "print(matrizA)\n",
        "print(\"Matriz B:\")\n",
        "print(matrizB)\n",
        "\n",
        "#Cálculo e impresión de los resultados.\n",
        "#Suma de ambas matrices.\n",
        "print(\"La suma de las matrices es:\\n\", matrizA + matrizB)\n",
        "\n",
        "#Resta de la matriz B a la matriz A.\n",
        "print(\"La resta de la matriz B a la matriz A es:\\n\", matrizA - matrizB)\n",
        "\n",
        "#Multiplicación de la matriz A por 2.\n",
        "print(\"La multiplicación de la matriz A por 2 es:\\n\", matrizA * 2)\n",
        "\n",
        "#Multiplicación matricial entre ambas matrices.\n",
        "print(\"La multiplicación matricial de A por B es:\\n\", np.dot(matrizA, matrizB))"
      ]
    }
  ]
}