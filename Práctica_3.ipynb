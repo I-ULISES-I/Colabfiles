{
  "nbformat": 4,
  "nbformat_minor": 0,
  "metadata": {
    "colab": {
      "provenance": [],
      "toc_visible": true,
      "authorship_tag": "ABX9TyNs3JI8RzuoZ8nJFxF55vQA",
      "include_colab_link": true
    },
    "kernelspec": {
      "name": "python3",
      "display_name": "Python 3"
    },
    "language_info": {
      "name": "python"
    }
  },
  "cells": [
    {
      "cell_type": "markdown",
      "metadata": {
        "id": "view-in-github",
        "colab_type": "text"
      },
      "source": [
        "<a href=\"https://colab.research.google.com/github/I-ULISES-I/Colabfiles/blob/main/Pr%C3%A1ctica_3.ipynb\" target=\"_parent\"><img src=\"https://colab.research.google.com/assets/colab-badge.svg\" alt=\"Open In Colab\"/></a>"
      ]
    },
    {
      "cell_type": "markdown",
      "source": [
        "# **Práctica #3. Creación de un Arreglo y Operaciones Básicas**"
      ],
      "metadata": {
        "id": "N11hHXSpahQd"
      }
    },
    {
      "cell_type": "code",
      "execution_count": 24,
      "metadata": {
        "colab": {
          "base_uri": "https://localhost:8080/"
        },
        "id": "-_w-rNU0aXNO",
        "outputId": "0e8f6c20-89cb-4a51-90bf-0ce6b063d3dc"
      },
      "outputs": [
        {
          "output_type": "stream",
          "name": "stdout",
          "text": [
            "El arreglo es: [ 18  81  42  59  74  19  66 100  13  21  30  59  72  60  27  52  31  78\n",
            "  25  75]\n",
            "El valor máximo es: 100\n",
            "El valor mínimo es: 13\n",
            "La media es: 50.1\n",
            "La suma de 10 a cada elemento es: [ 28  91  52  69  84  29  76 110  23  31  40  69  82  70  37  62  41  88\n",
            "  35  85]\n"
          ]
        }
      ],
      "source": [
        "#Importación de la librería NumPy\n",
        "import numpy as np\n",
        "\n",
        "#Creación del arreglo.\n",
        "arreglo = np.random.randint(1, 101, 20)\n",
        "\n",
        "#Impresión de los resultados.\n",
        "print(\"El arreglo es:\", arreglo)\n",
        "\n",
        "#Búsqueda del valor máximo.\n",
        "print(\"El valor máximo es:\", np.max(arreglo))\n",
        "\n",
        "#Búsqueda del valor mínimo.\n",
        "print(\"El valor mínimo es:\", np.min(arreglo))\n",
        "\n",
        "#Cálculo de la media.\n",
        "print(\"La media es:\", np.mean(arreglo))\n",
        "\n",
        "#Suma de 10 a cada elemento.\n",
        "print(\"La suma de 10 a cada elemento es:\", arreglo + 10)"
      ]
    }
  ]
}