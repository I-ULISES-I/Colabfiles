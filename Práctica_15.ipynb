{
  "nbformat": 4,
  "nbformat_minor": 0,
  "metadata": {
    "colab": {
      "provenance": [],
      "mount_file_id": "1xb5WKNHO8jcNafY9n0pnKcXZl0xGyFtL",
      "authorship_tag": "ABX9TyO4vdWkoKsufD+zFKB0VDYp",
      "include_colab_link": true
    },
    "kernelspec": {
      "name": "python3",
      "display_name": "Python 3"
    },
    "language_info": {
      "name": "python"
    }
  },
  "cells": [
    {
      "cell_type": "markdown",
      "metadata": {
        "id": "view-in-github",
        "colab_type": "text"
      },
      "source": [
        "<a href=\"https://colab.research.google.com/github/I-ULISES-I/Colabfiles/blob/main/Pr%C3%A1ctica_15.ipynb\" target=\"_parent\"><img src=\"https://colab.research.google.com/assets/colab-badge.svg\" alt=\"Open In Colab\"/></a>"
      ]
    },
    {
      "cell_type": "markdown",
      "source": [
        "# **Práctica #15. Datos Temporales**"
      ],
      "metadata": {
        "id": "e4BhMVii9QOM"
      }
    },
    {
      "cell_type": "code",
      "source": [
        "#Importación de la librería Pandas.\n",
        "import pandas as pd"
      ],
      "metadata": {
        "id": "bXRIpKf6RER9"
      },
      "execution_count": 31,
      "outputs": []
    },
    {
      "cell_type": "markdown",
      "source": [
        "# Ejercicio 01: Tipo de Datos Correcto."
      ],
      "metadata": {
        "id": "gzC76a8y9Z30"
      }
    },
    {
      "cell_type": "code",
      "source": [
        "#Carga del archivo y verificación del tipo de datos.\n",
        "df = pd.read_csv('drive/MyDrive/ClassFiles/Airdata.csv')\n",
        "print(df.dtypes)\n",
        "\n",
        "#Conversión del tipo de dato.\n",
        "df['DateTime'] = pd.to_datetime(df['DateTime'])\n",
        "\n",
        "#Demostración del tipo de datos.\n",
        "print(df.dtypes)\n",
        "\n",
        "#Impresión de las primeras 3 líneas.\n",
        "print(df.head(3))"
      ],
      "metadata": {
        "colab": {
          "base_uri": "https://localhost:8080/"
        },
        "id": "rFB-92aiRHKt",
        "outputId": "a03ff663-775a-4dd8-ac7b-ffc0edbf9295"
      },
      "execution_count": 32,
      "outputs": [
        {
          "output_type": "stream",
          "name": "stdout",
          "text": [
            "DateTime           object\n",
            "Temperature       float64\n",
            "Humidity            int64\n",
            "Wind_Speed        float64\n",
            "Wind_Direction    float64\n",
            "NO2_Location_A    float64\n",
            "NO2_Location_B    float64\n",
            "NO2_Location_C    float64\n",
            "dtype: object\n",
            "DateTime          datetime64[ns]\n",
            "Temperature              float64\n",
            "Humidity                   int64\n",
            "Wind_Speed               float64\n",
            "Wind_Direction           float64\n",
            "NO2_Location_A           float64\n",
            "NO2_Location_B           float64\n",
            "NO2_Location_C           float64\n",
            "dtype: object\n",
            "             DateTime  Temperature  Humidity  Wind_Speed  Wind_Direction  \\\n",
            "0 2020-01-01 00:00:00     2.180529        87    1.484318        75.96376   \n",
            "1 2020-01-01 01:00:00     1.490529        89    2.741678       113.19859   \n",
            "2 2020-01-01 02:00:00     1.690529        85    3.563818       135.00000   \n",
            "\n",
            "   NO2_Location_A  NO2_Location_B  NO2_Location_C  \n",
            "0           39.23           52.88           62.37  \n",
            "1           38.30           44.95           52.53  \n",
            "2             NaN           48.40           54.80  \n"
          ]
        }
      ]
    },
    {
      "cell_type": "markdown",
      "source": [
        "# Ejercicio 02: Extraer Componentes de Fecha y Tiempo."
      ],
      "metadata": {
        "id": "Hm3WUeTd9zPu"
      }
    },
    {
      "cell_type": "code",
      "source": [
        "#Extracción de los componentes y creación de las nuevas columnas.\n",
        "df['Año'] = df['DateTime'].dt.year\n",
        "df['Mes'] = df['DateTime'].dt.month\n",
        "df['Día'] = df['DateTime'].dt.day\n",
        "df['Hora'] = df['DateTime'].dt.hour\n",
        "\n",
        "#Impresión de las primeras 3 líneas.\n",
        "print(df.head(3))"
      ],
      "metadata": {
        "colab": {
          "base_uri": "https://localhost:8080/"
        },
        "id": "eXqOuZ9xTkDg",
        "outputId": "3e1a52c0-47df-43cb-e3a3-9a805dafd282"
      },
      "execution_count": 33,
      "outputs": [
        {
          "output_type": "stream",
          "name": "stdout",
          "text": [
            "             DateTime  Temperature  Humidity  Wind_Speed  Wind_Direction  \\\n",
            "0 2020-01-01 00:00:00     2.180529        87    1.484318        75.96376   \n",
            "1 2020-01-01 01:00:00     1.490529        89    2.741678       113.19859   \n",
            "2 2020-01-01 02:00:00     1.690529        85    3.563818       135.00000   \n",
            "\n",
            "   NO2_Location_A  NO2_Location_B  NO2_Location_C   Año  Mes  Día  Hora  \n",
            "0           39.23           52.88           62.37  2020    1    1     0  \n",
            "1           38.30           44.95           52.53  2020    1    1     1  \n",
            "2             NaN           48.40           54.80  2020    1    1     2  \n"
          ]
        }
      ]
    },
    {
      "cell_type": "markdown",
      "source": [
        "# Ejercicio 03: Aritmética - Suma de Intervalos (timedelta)."
      ],
      "metadata": {
        "id": "ONaq7McB9955"
      }
    },
    {
      "cell_type": "code",
      "source": [
        "#Operación de suma y creación de la nueva columna.\n",
        "df['Suma_Intervalos'] = df['DateTime'] + pd.Timedelta(days=10, hours=7, minutes=15)\n",
        "\n",
        "#Impresión de las columnas.\n",
        "print(df[['DateTime', 'Suma_Intervalos']])"
      ],
      "metadata": {
        "colab": {
          "base_uri": "https://localhost:8080/"
        },
        "id": "57BUNN-JUFpd",
        "outputId": "591c7676-fd7f-498d-9f5e-263f0858c6ff"
      },
      "execution_count": 34,
      "outputs": [
        {
          "output_type": "stream",
          "name": "stdout",
          "text": [
            "                DateTime     Suma_Intervalos\n",
            "0    2020-01-01 00:00:00 2020-01-11 07:15:00\n",
            "1    2020-01-01 01:00:00 2020-01-11 08:15:00\n",
            "2    2020-01-01 02:00:00 2020-01-11 09:15:00\n",
            "3    2020-01-01 03:00:00 2020-01-11 10:15:00\n",
            "4    2020-01-01 04:00:00 2020-01-11 11:15:00\n",
            "...                  ...                 ...\n",
            "8779 2020-12-31 19:00:00 2021-01-11 02:15:00\n",
            "8780 2020-12-31 20:00:00 2021-01-11 03:15:00\n",
            "8781 2020-12-31 21:00:00 2021-01-11 04:15:00\n",
            "8782 2020-12-31 22:00:00 2021-01-11 05:15:00\n",
            "8783 2020-12-31 23:00:00 2021-01-11 06:15:00\n",
            "\n",
            "[8784 rows x 2 columns]\n"
          ]
        }
      ]
    },
    {
      "cell_type": "markdown",
      "source": [
        "# Ejercicio 04: Timestamp."
      ],
      "metadata": {
        "id": "U7dswj9F-JqS"
      }
    },
    {
      "cell_type": "code",
      "source": [
        "#Conversión del formato y creación de la nueva columna.\n",
        "df['Timestamp_Unix'] = pd.to_datetime(df['DateTime']).astype('int64') // 10**9\n",
        "\n",
        "#Impresión de las primeras 3 filas.\n",
        "print(df[['DateTime', 'Timestamp_Unix']].head(3))"
      ],
      "metadata": {
        "colab": {
          "base_uri": "https://localhost:8080/"
        },
        "id": "KUkPdKEaWCtW",
        "outputId": "6d58db33-b4ca-461b-e440-a1774fea0c76"
      },
      "execution_count": 35,
      "outputs": [
        {
          "output_type": "stream",
          "name": "stdout",
          "text": [
            "             DateTime  Timestamp_Unix\n",
            "0 2020-01-01 00:00:00      1577836800\n",
            "1 2020-01-01 01:00:00      1577840400\n",
            "2 2020-01-01 02:00:00      1577844000\n"
          ]
        }
      ]
    },
    {
      "cell_type": "markdown",
      "source": [
        "# Ejercicio 05: Filtrado de Fechas."
      ],
      "metadata": {
        "id": "BG9h4fQE-ObB"
      }
    },
    {
      "cell_type": "code",
      "source": [
        "#Filtración de fechas.\n",
        "df = df[df['DateTime'] > '2020-11-01']\n",
        "\n",
        "#Impresión del resultado.\n",
        "print(df)"
      ],
      "metadata": {
        "colab": {
          "base_uri": "https://localhost:8080/"
        },
        "id": "QDSaCqkhZxcs",
        "outputId": "2f8691a0-d110-4eef-fc05-39409d0cd19b"
      },
      "execution_count": 36,
      "outputs": [
        {
          "output_type": "stream",
          "name": "stdout",
          "text": [
            "                DateTime  Temperature  Humidity  Wind_Speed  Wind_Direction  \\\n",
            "7321 2020-11-01 01:00:00    13.620529        58    6.638072       130.60129   \n",
            "7322 2020-11-01 02:00:00    13.980529        40    6.618519       157.61987   \n",
            "7323 2020-11-01 03:00:00    13.010529        43    8.209263       164.74487   \n",
            "7324 2020-11-01 04:00:00    12.190529        51    7.568566       154.65382   \n",
            "7325 2020-11-01 05:00:00    12.510529        59    7.594208       148.57043   \n",
            "...                  ...          ...       ...         ...             ...   \n",
            "8779 2020-12-31 19:00:00     4.920528        72    4.553680       251.56506   \n",
            "8780 2020-12-31 20:00:00     4.990529        74    3.259939       186.34020   \n",
            "8781 2020-12-31 21:00:00     4.360529        84   10.587917       252.18112   \n",
            "8782 2020-12-31 22:00:00     3.820528        88    8.435069       219.80557   \n",
            "8783 2020-12-31 23:00:00     3.170529        89    6.792466       212.00539   \n",
            "\n",
            "      NO2_Location_A  NO2_Location_B  NO2_Location_C   Año  Mes  Día  Hora  \\\n",
            "7321           17.50           23.88           44.07  2020   11    1     1   \n",
            "7322           13.38           18.92           35.80  2020   11    1     2   \n",
            "7323           11.95           13.95           30.15  2020   11    1     3   \n",
            "7324           10.10           14.35           31.45  2020   11    1     4   \n",
            "7325           10.30           14.42           32.55  2020   11    1     5   \n",
            "...              ...             ...             ...   ...  ...  ...   ...   \n",
            "8779           53.44           32.65           66.82  2020   12   31    19   \n",
            "8780           49.80           34.03           67.31  2020   12   31    20   \n",
            "8781           43.32           25.55           59.33  2020   12   31    21   \n",
            "8782           39.88           19.90           43.70  2020   12   31    22   \n",
            "8783           39.04           30.33           46.87  2020   12   31    23   \n",
            "\n",
            "         Suma_Intervalos  Timestamp_Unix  \n",
            "7321 2020-11-11 08:15:00      1604192400  \n",
            "7322 2020-11-11 09:15:00      1604196000  \n",
            "7323 2020-11-11 10:15:00      1604199600  \n",
            "7324 2020-11-11 11:15:00      1604203200  \n",
            "7325 2020-11-11 12:15:00      1604206800  \n",
            "...                  ...             ...  \n",
            "8779 2021-01-11 02:15:00      1609441200  \n",
            "8780 2021-01-11 03:15:00      1609444800  \n",
            "8781 2021-01-11 04:15:00      1609448400  \n",
            "8782 2021-01-11 05:15:00      1609452000  \n",
            "8783 2021-01-11 06:15:00      1609455600  \n",
            "\n",
            "[1463 rows x 14 columns]\n"
          ]
        }
      ]
    }
  ]
}