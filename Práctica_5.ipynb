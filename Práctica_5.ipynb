{
  "nbformat": 4,
  "nbformat_minor": 0,
  "metadata": {
    "colab": {
      "provenance": [],
      "toc_visible": true,
      "authorship_tag": "ABX9TyN+RZzba3Cek0zogp8DKYVp",
      "include_colab_link": true
    },
    "kernelspec": {
      "name": "python3",
      "display_name": "Python 3"
    },
    "language_info": {
      "name": "python"
    }
  },
  "cells": [
    {
      "cell_type": "markdown",
      "metadata": {
        "id": "view-in-github",
        "colab_type": "text"
      },
      "source": [
        "<a href=\"https://colab.research.google.com/github/I-ULISES-I/Colabfiles/blob/main/Pr%C3%A1ctica_5.ipynb\" target=\"_parent\"><img src=\"https://colab.research.google.com/assets/colab-badge.svg\" alt=\"Open In Colab\"/></a>"
      ]
    },
    {
      "cell_type": "markdown",
      "source": [
        "# **Práctica #5. Uso de Máscaras Booleanas**"
      ],
      "metadata": {
        "id": "RrGEcJOol9Sw"
      }
    },
    {
      "cell_type": "code",
      "execution_count": null,
      "metadata": {
        "colab": {
          "base_uri": "https://localhost:8080/"
        },
        "id": "iZ_7DXkEl8U4",
        "outputId": "61429e27-c34d-4727-a54a-6405fcd0a278"
      },
      "outputs": [
        {
          "output_type": "stream",
          "name": "stdout",
          "text": [
            "El arreglo es: [17 49 42 10 29 18  2 33 45 21 36  2 15 41 31]\n",
            "Los elementos mayores a 25 son: [49 42 29 33 45 36 41 31]\n",
            "La cantidad de elementos mayores a 25 es: 8\n"
          ]
        }
      ],
      "source": [
        "#Importación de la librería NumPy.\n",
        "import numpy as np\n",
        "\n",
        "#Creación del arreglo.\n",
        "arreglo = np.random.randint(1, 51, 15)\n",
        "\n",
        "#Impresión del arreglo original.\n",
        "print(\"El arreglo es:\", arreglo)\n",
        "\n",
        "#Cálculo e impresión de los resultados.\n",
        "#Selección de los elementos mayores a 25.\n",
        "mascara = arreglo > 25\n",
        "print(\"Los elementos mayores a 25 son:\", arreglo[mascara])\n",
        "\n",
        "#Conteo de los elementos mayores a 25.\n",
        "print(\"La cantidad de elementos mayores a 25 es:\", np.count_nonzero(mascara))"
      ]
    }
  ]
}