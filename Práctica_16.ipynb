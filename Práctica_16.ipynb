{
  "nbformat": 4,
  "nbformat_minor": 0,
  "metadata": {
    "colab": {
      "provenance": [],
      "mount_file_id": "11nfaDkrhiVkjCg7i0xSldeEu3Tt5oUIV",
      "authorship_tag": "ABX9TyPV0dw0YEgPMYTgULFajWP9",
      "include_colab_link": true
    },
    "kernelspec": {
      "name": "python3",
      "display_name": "Python 3"
    },
    "language_info": {
      "name": "python"
    }
  },
  "cells": [
    {
      "cell_type": "markdown",
      "metadata": {
        "id": "view-in-github",
        "colab_type": "text"
      },
      "source": [
        "<a href=\"https://colab.research.google.com/github/I-ULISES-I/Colabfiles/blob/main/Pr%C3%A1ctica_16.ipynb\" target=\"_parent\"><img src=\"https://colab.research.google.com/assets/colab-badge.svg\" alt=\"Open In Colab\"/></a>"
      ]
    },
    {
      "cell_type": "markdown",
      "source": [
        "# **Práctica #16. Datos Duplicados**"
      ],
      "metadata": {
        "id": "1CH-5mk9VCL8"
      }
    },
    {
      "cell_type": "code",
      "source": [
        "#Importación de la librería Pandas.\n",
        "import pandas as pd"
      ],
      "metadata": {
        "id": "2EGKhph9ggeh"
      },
      "execution_count": 33,
      "outputs": []
    },
    {
      "cell_type": "markdown",
      "source": [
        "# Ejercicio 01: Datos Perdidos."
      ],
      "metadata": {
        "id": "P5PmkVPPVy5b"
      }
    },
    {
      "cell_type": "code",
      "source": [
        "#Carga del archivo y verificación.\n",
        "df = pd.read_csv('drive/MyDrive/ClassFiles/dirtydata.csv')\n",
        "print(df)\n",
        "\n",
        "#Impresión de la cantidad de datos perdidos.\n",
        "print(df.isnull().sum())\n",
        "\n",
        "#Cálculo de la media.\n",
        "print(df['Calories'].mean())\n",
        "\n",
        "#Imputación por promedio.\n",
        "df['Calories'] = df['Calories'].fillna(df['Calories'].mean())\n",
        "\n",
        "#Cálculo de la media.\n",
        "print(df['Calories'].mean())"
      ],
      "metadata": {
        "colab": {
          "base_uri": "https://localhost:8080/"
        },
        "id": "e7V_8eI2gmlE",
        "outputId": "44bd7d68-b342-4675-a094-0390eaf9c7b8"
      },
      "execution_count": 34,
      "outputs": [
        {
          "output_type": "stream",
          "name": "stdout",
          "text": [
            "    Duration          Date  Pulse  Maxpulse  Calories\n",
            "0         60  '2020/12/01'    110       130     409.1\n",
            "1         60  '2020/12/02'    117       145     479.0\n",
            "2         60  '2020/12/03'    103       135     340.0\n",
            "3         45  '2020/12/04'    109       175     282.4\n",
            "4         45  '2020/12/05'    117       148     406.0\n",
            "5         60  '2020/12/06'    102       127     300.0\n",
            "6         60  '2020/12/07'    110       136     374.0\n",
            "7        450  '2020/12/08'    104       134     253.3\n",
            "8         30  '2020/12/09'    109       133     195.1\n",
            "9         60  '2020/12/10'     98       124     269.0\n",
            "10        60  '2020/12/11'    103       147     329.3\n",
            "11        60  '2020/12/12'    100       120     250.7\n",
            "12        60  '2020/12/12'    100       120     250.7\n",
            "13        60  '2020/12/13'    106       128     345.3\n",
            "14        60  '2020/12/14'    104       132     379.3\n",
            "15        60  '2020/12/15'     98       123     275.0\n",
            "16        60  '2020/12/16'     98       120     215.2\n",
            "17        60  '2020/12/17'    100       120     300.0\n",
            "18        45  '2020/12/18'     90       112       NaN\n",
            "19        60  '2020/12/19'    103       123     323.0\n",
            "20        45  '2020/12/20'     97       125     243.0\n",
            "21        60  '2020/12/21'    108       131     364.2\n",
            "22        45           NaN    100       119     282.0\n",
            "23        60  '2020/12/23'    130       101     300.0\n",
            "24        45  '2020/12/24'    105       132     246.0\n",
            "25        60  '2020/12/25'    102       126     334.5\n",
            "26        60      20201226    100       120     250.0\n",
            "27        60  '2020/12/27'     92       118     241.0\n",
            "28        60  '2020/12/28'    103       132       NaN\n",
            "29        60  '2020/12/29'    100       132     280.0\n",
            "30        60  '2020/12/30'    102       129     380.3\n",
            "31        60  '2020/12/31'     92       115     243.0\n",
            "Duration    0\n",
            "Date        1\n",
            "Pulse       0\n",
            "Maxpulse    0\n",
            "Calories    2\n",
            "dtype: int64\n",
            "304.68\n",
            "304.67999999999995\n"
          ]
        }
      ]
    },
    {
      "cell_type": "markdown",
      "source": [
        "# Ejercicio 02: Duplicidad Parcial una Columna: Contar y Filtrar los Registros Duplicados en Duration."
      ],
      "metadata": {
        "id": "K9vIO7GmVyr-"
      }
    },
    {
      "cell_type": "code",
      "source": [
        "#Carga del archivo y verificación.\n",
        "df = pd.read_csv('drive/MyDrive/ClassFiles/dirtydata.csv')\n",
        "print(df)\n",
        "\n",
        "#Conteo e impresión de la cantidad de registros duplicados.\n",
        "print(df.duplicated(subset=['Duration']).sum())\n",
        "\n",
        "#Impresión de la cantidad de registros por valor único.\n",
        "print(df['Duration'].value_counts())\n",
        "\n",
        "#Filtración y obtención de los registros sin duplicados.\n",
        "print(df[~df.duplicated(subset=['Duration'], keep=False)])"
      ],
      "metadata": {
        "colab": {
          "base_uri": "https://localhost:8080/"
        },
        "id": "alUfjVjtyCAA",
        "outputId": "e339c0d6-924b-4fef-83ba-58ffec4c9bb6"
      },
      "execution_count": 35,
      "outputs": [
        {
          "output_type": "stream",
          "name": "stdout",
          "text": [
            "    Duration          Date  Pulse  Maxpulse  Calories\n",
            "0         60  '2020/12/01'    110       130     409.1\n",
            "1         60  '2020/12/02'    117       145     479.0\n",
            "2         60  '2020/12/03'    103       135     340.0\n",
            "3         45  '2020/12/04'    109       175     282.4\n",
            "4         45  '2020/12/05'    117       148     406.0\n",
            "5         60  '2020/12/06'    102       127     300.0\n",
            "6         60  '2020/12/07'    110       136     374.0\n",
            "7        450  '2020/12/08'    104       134     253.3\n",
            "8         30  '2020/12/09'    109       133     195.1\n",
            "9         60  '2020/12/10'     98       124     269.0\n",
            "10        60  '2020/12/11'    103       147     329.3\n",
            "11        60  '2020/12/12'    100       120     250.7\n",
            "12        60  '2020/12/12'    100       120     250.7\n",
            "13        60  '2020/12/13'    106       128     345.3\n",
            "14        60  '2020/12/14'    104       132     379.3\n",
            "15        60  '2020/12/15'     98       123     275.0\n",
            "16        60  '2020/12/16'     98       120     215.2\n",
            "17        60  '2020/12/17'    100       120     300.0\n",
            "18        45  '2020/12/18'     90       112       NaN\n",
            "19        60  '2020/12/19'    103       123     323.0\n",
            "20        45  '2020/12/20'     97       125     243.0\n",
            "21        60  '2020/12/21'    108       131     364.2\n",
            "22        45           NaN    100       119     282.0\n",
            "23        60  '2020/12/23'    130       101     300.0\n",
            "24        45  '2020/12/24'    105       132     246.0\n",
            "25        60  '2020/12/25'    102       126     334.5\n",
            "26        60      20201226    100       120     250.0\n",
            "27        60  '2020/12/27'     92       118     241.0\n",
            "28        60  '2020/12/28'    103       132       NaN\n",
            "29        60  '2020/12/29'    100       132     280.0\n",
            "30        60  '2020/12/30'    102       129     380.3\n",
            "31        60  '2020/12/31'     92       115     243.0\n",
            "28\n",
            "Duration\n",
            "60     24\n",
            "45      6\n",
            "450     1\n",
            "30      1\n",
            "Name: count, dtype: int64\n",
            "   Duration          Date  Pulse  Maxpulse  Calories\n",
            "7       450  '2020/12/08'    104       134     253.3\n",
            "8        30  '2020/12/09'    109       133     195.1\n"
          ]
        }
      ]
    },
    {
      "cell_type": "markdown",
      "source": [
        "# Ejercicio 03: Duplicidad Parcial dos Columnas: Contar y Filtrar los Registros Duplicados en Pulse y MaxPulse."
      ],
      "metadata": {
        "id": "x3T9BXw6Vybl"
      }
    },
    {
      "cell_type": "code",
      "source": [
        "#Carga del archivo y verificación.\n",
        "df = pd.read_csv('drive/MyDrive/ClassFiles/dirtydata.csv')\n",
        "print(df)\n",
        "\n",
        "#Conteo e impresión de la cantidad de registros duplicados.\n",
        "print(df.duplicated(subset=['Pulse', 'Maxpulse']).sum())\n",
        "\n",
        "#Impresión de la cantidad de registros por valor único.\n",
        "print(df[['Pulse', 'Maxpulse']].value_counts())\n",
        "\n",
        "#Filtración y obtención de los registros.\n",
        "print(df[df.duplicated(subset=['Pulse', 'Maxpulse'], keep='last')])"
      ],
      "metadata": {
        "colab": {
          "base_uri": "https://localhost:8080/"
        },
        "id": "IwebW3En2-Mu",
        "outputId": "5c7fd661-8d30-4926-b9bb-fa3deb5a41f2"
      },
      "execution_count": 36,
      "outputs": [
        {
          "output_type": "stream",
          "name": "stdout",
          "text": [
            "    Duration          Date  Pulse  Maxpulse  Calories\n",
            "0         60  '2020/12/01'    110       130     409.1\n",
            "1         60  '2020/12/02'    117       145     479.0\n",
            "2         60  '2020/12/03'    103       135     340.0\n",
            "3         45  '2020/12/04'    109       175     282.4\n",
            "4         45  '2020/12/05'    117       148     406.0\n",
            "5         60  '2020/12/06'    102       127     300.0\n",
            "6         60  '2020/12/07'    110       136     374.0\n",
            "7        450  '2020/12/08'    104       134     253.3\n",
            "8         30  '2020/12/09'    109       133     195.1\n",
            "9         60  '2020/12/10'     98       124     269.0\n",
            "10        60  '2020/12/11'    103       147     329.3\n",
            "11        60  '2020/12/12'    100       120     250.7\n",
            "12        60  '2020/12/12'    100       120     250.7\n",
            "13        60  '2020/12/13'    106       128     345.3\n",
            "14        60  '2020/12/14'    104       132     379.3\n",
            "15        60  '2020/12/15'     98       123     275.0\n",
            "16        60  '2020/12/16'     98       120     215.2\n",
            "17        60  '2020/12/17'    100       120     300.0\n",
            "18        45  '2020/12/18'     90       112       NaN\n",
            "19        60  '2020/12/19'    103       123     323.0\n",
            "20        45  '2020/12/20'     97       125     243.0\n",
            "21        60  '2020/12/21'    108       131     364.2\n",
            "22        45           NaN    100       119     282.0\n",
            "23        60  '2020/12/23'    130       101     300.0\n",
            "24        45  '2020/12/24'    105       132     246.0\n",
            "25        60  '2020/12/25'    102       126     334.5\n",
            "26        60      20201226    100       120     250.0\n",
            "27        60  '2020/12/27'     92       118     241.0\n",
            "28        60  '2020/12/28'    103       132       NaN\n",
            "29        60  '2020/12/29'    100       132     280.0\n",
            "30        60  '2020/12/30'    102       129     380.3\n",
            "31        60  '2020/12/31'     92       115     243.0\n",
            "3\n",
            "Pulse  Maxpulse\n",
            "100    120         4\n",
            "90     112         1\n",
            "103    135         1\n",
            "117    148         1\n",
            "       145         1\n",
            "110    136         1\n",
            "       130         1\n",
            "109    175         1\n",
            "       133         1\n",
            "108    131         1\n",
            "106    128         1\n",
            "105    132         1\n",
            "104    134         1\n",
            "       132         1\n",
            "103    147         1\n",
            "       132         1\n",
            "92     115         1\n",
            "103    123         1\n",
            "102    129         1\n",
            "       127         1\n",
            "       126         1\n",
            "100    132         1\n",
            "       119         1\n",
            "98     124         1\n",
            "       123         1\n",
            "       120         1\n",
            "97     125         1\n",
            "92     118         1\n",
            "130    101         1\n",
            "Name: count, dtype: int64\n",
            "    Duration          Date  Pulse  Maxpulse  Calories\n",
            "11        60  '2020/12/12'    100       120     250.7\n",
            "12        60  '2020/12/12'    100       120     250.7\n",
            "17        60  '2020/12/17'    100       120     300.0\n"
          ]
        }
      ]
    },
    {
      "cell_type": "markdown",
      "source": [
        "# Ejercicio 04: Duplicidad Total o Exacta: Contar y Filtrar los Registros Duplicados."
      ],
      "metadata": {
        "id": "JkaXHdcHVyQY"
      }
    },
    {
      "cell_type": "code",
      "source": [
        "#Carga del archivo y verificación.\n",
        "df = pd.read_csv('drive/MyDrive/ClassFiles/dirtydata.csv')\n",
        "print(df)\n",
        "\n",
        "#Conteo de la cantidad de registros duplicados.\n",
        "cantidad_duplicados = df.duplicated().sum()\n",
        "\n",
        "#Impresión de la cantidad de registros.\n",
        "print(cantidad_duplicados)\n",
        "\n",
        "#Filtración y obtención de los registros.\n",
        "print(df[df.duplicated(keep='last')])"
      ],
      "metadata": {
        "colab": {
          "base_uri": "https://localhost:8080/"
        },
        "id": "rhwipBed5ZdE",
        "outputId": "8f8828c0-e15c-44d4-e286-53574a991829"
      },
      "execution_count": 37,
      "outputs": [
        {
          "output_type": "stream",
          "name": "stdout",
          "text": [
            "    Duration          Date  Pulse  Maxpulse  Calories\n",
            "0         60  '2020/12/01'    110       130     409.1\n",
            "1         60  '2020/12/02'    117       145     479.0\n",
            "2         60  '2020/12/03'    103       135     340.0\n",
            "3         45  '2020/12/04'    109       175     282.4\n",
            "4         45  '2020/12/05'    117       148     406.0\n",
            "5         60  '2020/12/06'    102       127     300.0\n",
            "6         60  '2020/12/07'    110       136     374.0\n",
            "7        450  '2020/12/08'    104       134     253.3\n",
            "8         30  '2020/12/09'    109       133     195.1\n",
            "9         60  '2020/12/10'     98       124     269.0\n",
            "10        60  '2020/12/11'    103       147     329.3\n",
            "11        60  '2020/12/12'    100       120     250.7\n",
            "12        60  '2020/12/12'    100       120     250.7\n",
            "13        60  '2020/12/13'    106       128     345.3\n",
            "14        60  '2020/12/14'    104       132     379.3\n",
            "15        60  '2020/12/15'     98       123     275.0\n",
            "16        60  '2020/12/16'     98       120     215.2\n",
            "17        60  '2020/12/17'    100       120     300.0\n",
            "18        45  '2020/12/18'     90       112       NaN\n",
            "19        60  '2020/12/19'    103       123     323.0\n",
            "20        45  '2020/12/20'     97       125     243.0\n",
            "21        60  '2020/12/21'    108       131     364.2\n",
            "22        45           NaN    100       119     282.0\n",
            "23        60  '2020/12/23'    130       101     300.0\n",
            "24        45  '2020/12/24'    105       132     246.0\n",
            "25        60  '2020/12/25'    102       126     334.5\n",
            "26        60      20201226    100       120     250.0\n",
            "27        60  '2020/12/27'     92       118     241.0\n",
            "28        60  '2020/12/28'    103       132       NaN\n",
            "29        60  '2020/12/29'    100       132     280.0\n",
            "30        60  '2020/12/30'    102       129     380.3\n",
            "31        60  '2020/12/31'     92       115     243.0\n",
            "1\n",
            "    Duration          Date  Pulse  Maxpulse  Calories\n",
            "11        60  '2020/12/12'    100       120     250.7\n"
          ]
        }
      ]
    },
    {
      "cell_type": "markdown",
      "source": [
        "# Ejercicio 05: Cálculo de la Media con Duplicados y Sin Duplicados."
      ],
      "metadata": {
        "id": "vpql7mEHVyB-"
      }
    },
    {
      "cell_type": "code",
      "source": [
        "#Carga del archivo y verificación.\n",
        "df = pd.read_csv('drive/MyDrive/ClassFiles/dirtydata.csv')\n",
        "print(df)\n",
        "\n",
        "#Cálculo e impresión de la media.\n",
        "print(df[['Pulse', 'Maxpulse']].mean())\n",
        "\n",
        "#Identificación y eliminación de los registros repetidos.\n",
        "df.drop_duplicates(subset=['Pulse', 'Maxpulse'], keep='last', inplace=True)\n",
        "\n",
        "#Cálculo e impresión de la media.\n",
        "print(df[['Pulse', 'Maxpulse']].mean())"
      ],
      "metadata": {
        "colab": {
          "base_uri": "https://localhost:8080/"
        },
        "id": "J2rg-x3-BESF",
        "outputId": "edac1728-2475-4d29-9c15-951c58ae9acf"
      },
      "execution_count": 38,
      "outputs": [
        {
          "output_type": "stream",
          "name": "stdout",
          "text": [
            "    Duration          Date  Pulse  Maxpulse  Calories\n",
            "0         60  '2020/12/01'    110       130     409.1\n",
            "1         60  '2020/12/02'    117       145     479.0\n",
            "2         60  '2020/12/03'    103       135     340.0\n",
            "3         45  '2020/12/04'    109       175     282.4\n",
            "4         45  '2020/12/05'    117       148     406.0\n",
            "5         60  '2020/12/06'    102       127     300.0\n",
            "6         60  '2020/12/07'    110       136     374.0\n",
            "7        450  '2020/12/08'    104       134     253.3\n",
            "8         30  '2020/12/09'    109       133     195.1\n",
            "9         60  '2020/12/10'     98       124     269.0\n",
            "10        60  '2020/12/11'    103       147     329.3\n",
            "11        60  '2020/12/12'    100       120     250.7\n",
            "12        60  '2020/12/12'    100       120     250.7\n",
            "13        60  '2020/12/13'    106       128     345.3\n",
            "14        60  '2020/12/14'    104       132     379.3\n",
            "15        60  '2020/12/15'     98       123     275.0\n",
            "16        60  '2020/12/16'     98       120     215.2\n",
            "17        60  '2020/12/17'    100       120     300.0\n",
            "18        45  '2020/12/18'     90       112       NaN\n",
            "19        60  '2020/12/19'    103       123     323.0\n",
            "20        45  '2020/12/20'     97       125     243.0\n",
            "21        60  '2020/12/21'    108       131     364.2\n",
            "22        45           NaN    100       119     282.0\n",
            "23        60  '2020/12/23'    130       101     300.0\n",
            "24        45  '2020/12/24'    105       132     246.0\n",
            "25        60  '2020/12/25'    102       126     334.5\n",
            "26        60      20201226    100       120     250.0\n",
            "27        60  '2020/12/27'     92       118     241.0\n",
            "28        60  '2020/12/28'    103       132       NaN\n",
            "29        60  '2020/12/29'    100       132     280.0\n",
            "30        60  '2020/12/30'    102       129     380.3\n",
            "31        60  '2020/12/31'     92       115     243.0\n",
            "Pulse       103.5\n",
            "Maxpulse    128.5\n",
            "dtype: float64\n",
            "Pulse       103.862069\n",
            "Maxpulse    129.379310\n",
            "dtype: float64\n"
          ]
        }
      ]
    }
  ]
}