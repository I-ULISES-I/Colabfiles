{
  "nbformat": 4,
  "nbformat_minor": 0,
  "metadata": {
    "colab": {
      "provenance": [],
      "include_colab_link": true
    },
    "kernelspec": {
      "name": "python3",
      "display_name": "Python 3"
    },
    "language_info": {
      "name": "python"
    }
  },
  "cells": [
    {
      "cell_type": "markdown",
      "metadata": {
        "id": "view-in-github",
        "colab_type": "text"
      },
      "source": [
        "<a href=\"https://colab.research.google.com/github/I-ULISES-I/Colabfiles/blob/main/ProyectoProgADAP_256056.ipynb\" target=\"_parent\"><img src=\"https://colab.research.google.com/assets/colab-badge.svg\" alt=\"Open In Colab\"/></a>"
      ]
    },
    {
      "cell_type": "markdown",
      "source": [
        "# **Proyecto de Programación para Analítica Descriptiva y Predictiva**\n",
        "## Nombre del Proyecto: Análisis y Predicción del Riesgo de Cáncer de Tiroides\n",
        "## Grupo: B\n",
        "## Autor: Ulises Hernández Rodríguez\n",
        "## Matrícula: 256056\n",
        "## Fecha: 10/Mar/25"
      ],
      "metadata": {
        "id": "V5SiSwjFaQ8j"
      }
    },
    {
      "cell_type": "markdown",
      "source": [
        "# **1. Introducción**"
      ],
      "metadata": {
        "id": "6ljsvIIXbAHF"
      }
    },
    {
      "cell_type": "markdown",
      "source": [
        "## - Descripción del problema: ¿Qué queremos analizar o predecir?"
      ],
      "metadata": {
        "id": "8adRh2c_VrMt"
      }
    },
    {
      "cell_type": "markdown",
      "source": [
        "El cáncer de tiroides es un tumor que se origina en la glándula tiroides, una pequeña glándula con forma de mariposa ubicada en el cuello. Es el cáncer endocrinológico más frecuente. El principal síntoma de cáncer de tiroides es un bulto en el cuello. Una pronta detección puede ayudar a prevenir consecuencias irrevertibles, así como un tratamiento temprano."
      ],
      "metadata": {
        "id": "sF9r1E304bFj"
      }
    },
    {
      "cell_type": "markdown",
      "source": [
        "## - Objetivo del análisis: ¿Qué impacto tendrá este análisis?"
      ],
      "metadata": {
        "id": "ntIwJ-hEVTEJ"
      }
    },
    {
      "cell_type": "markdown",
      "source": [
        "El objetivo de este proyecto es analizar las 13 características clínico-patológicas sobre los pacientes que el conjunto de datos proporciona, con la finalidad de intentar predecir el nivel del riesgo que existe de padecer cáncer de tiroides."
      ],
      "metadata": {
        "id": "cwCsY0bgWWP7"
      }
    },
    {
      "cell_type": "markdown",
      "source": [
        "## - Fuente de datos: ¿De dónde provienen los datos?"
      ],
      "metadata": {
        "id": "Itp9fRtkVTkC"
      }
    },
    {
      "cell_type": "markdown",
      "source": [
        "Los datos fueron extraídos de Kaggle del siguiente enlace:\n",
        "https://www.kaggle.com/datasets/bhargavchirumamilla/thyroid-cancer-risk-dataset, donde se encuentran publicados para que cualquier persona pueda hacer uso de ellos bajo una licencia del MIT.\n"
      ],
      "metadata": {
        "id": "D0mPPkOQn0AP"
      }
    },
    {
      "cell_type": "markdown",
      "source": [
        "# **2. Captura y Carga de Datos**"
      ],
      "metadata": {
        "id": "R2awiYXqa6Tv"
      }
    },
    {
      "cell_type": "markdown",
      "source": [
        "## - Explicación de la fuente de datos: ¿Cuáles son las fuentes de datos?, ¿Qué formato tienen los datos (CSV, SQL, API, etc.)?, ¿Cuántas observaciones y variables contiene el dataset?"
      ],
      "metadata": {
        "id": "wExGoryypF7H"
      }
    },
    {
      "cell_type": "markdown",
      "source": [
        "El conjunto de datos viene en un archivo con extensión .csv, el cual es un tipo de archivo que contiene información delimitada por comas. A continuacion se presenta una primera vista del formato de la información:"
      ],
      "metadata": {
        "id": "7eYj_NESpfiy"
      }
    },
    {
      "cell_type": "code",
      "source": [
        "#Importación de la librería pandas.\n",
        "import pandas as pd\n",
        "\n",
        "#Carga del archivo.\n",
        "df = pd.read_csv('drive/MyDrive/ClassFiles/thyroid_cancer_risk_data.csv')\n",
        "\n",
        "#Impresión de la información del archivo.\n",
        "print('Información del archivo:')\n",
        "print(df.info())"
      ],
      "metadata": {
        "colab": {
          "base_uri": "https://localhost:8080/"
        },
        "id": "xZsHAfs7qIxI",
        "outputId": "72707a52-9444-43f3-a7e1-f7c0a29f0a00"
      },
      "execution_count": null,
      "outputs": [
        {
          "output_type": "stream",
          "name": "stdout",
          "text": [
            "Información del archivo:\n",
            "<class 'pandas.core.frame.DataFrame'>\n",
            "RangeIndex: 212691 entries, 0 to 212690\n",
            "Data columns (total 17 columns):\n",
            " #   Column               Non-Null Count   Dtype  \n",
            "---  ------               --------------   -----  \n",
            " 0   Patient_ID           212691 non-null  int64  \n",
            " 1   Age                  212691 non-null  int64  \n",
            " 2   Gender               212691 non-null  object \n",
            " 3   Country              212691 non-null  object \n",
            " 4   Ethnicity            212691 non-null  object \n",
            " 5   Family_History       212691 non-null  object \n",
            " 6   Radiation_Exposure   212691 non-null  object \n",
            " 7   Iodine_Deficiency    212691 non-null  object \n",
            " 8   Smoking              212691 non-null  object \n",
            " 9   Obesity              212691 non-null  object \n",
            " 10  Diabetes             212691 non-null  object \n",
            " 11  TSH_Level            212691 non-null  float64\n",
            " 12  T3_Level             212691 non-null  float64\n",
            " 13  T4_Level             212691 non-null  float64\n",
            " 14  Nodule_Size          212691 non-null  float64\n",
            " 15  Thyroid_Cancer_Risk  212691 non-null  object \n",
            " 16  Diagnosis            212691 non-null  object \n",
            "dtypes: float64(4), int64(2), object(11)\n",
            "memory usage: 27.6+ MB\n",
            "None\n"
          ]
        }
      ]
    },
    {
      "cell_type": "markdown",
      "source": [
        "Como se puede observar, el conjunto presenta un formato estable y formal, cuenta con 17 columnas, las cuales representan los atributos y/o variables, y un total de 212,691 filas sin contar encabezado, los cuales representan la información de cada uno de los pacientes."
      ],
      "metadata": {
        "id": "QaOPr9nisPnx"
      }
    },
    {
      "cell_type": "markdown",
      "source": [
        "## - Explicación sobre problemas en la carga de Datos y el Código para la carga de datos desde archivos (bibiotecas, etc.)"
      ],
      "metadata": {
        "id": "epPBtYODpHkO"
      }
    },
    {
      "cell_type": "markdown",
      "source": [
        "En el momento que se realizó la carga de los datos, no se detectó ni presentó problema alguno."
      ],
      "metadata": {
        "id": "XE63vXh-tYeI"
      }
    },
    {
      "cell_type": "markdown",
      "source": [
        "#**3.Transformación y Preprocesamiento - Data Wrangling**"
      ],
      "metadata": {
        "id": "oKCLUQvPcSOm"
      }
    },
    {
      "cell_type": "markdown",
      "source": [
        "## - Identificación de Tipos de Datos"
      ],
      "metadata": {
        "id": "9Mvrwj9kuwLf"
      }
    },
    {
      "cell_type": "code",
      "source": [
        "#Impresión de los tipos de datos.\n",
        "print('Tipos de datos:')\n",
        "print(df.dtypes)"
      ],
      "metadata": {
        "colab": {
          "base_uri": "https://localhost:8080/"
        },
        "id": "uTZapw7nwIqg",
        "outputId": "32893b07-0498-4aba-cded-90f8f1895187"
      },
      "execution_count": null,
      "outputs": [
        {
          "output_type": "stream",
          "name": "stdout",
          "text": [
            "Tipos de datos:\n",
            "Patient_ID               int64\n",
            "Age                      int64\n",
            "Gender                  object\n",
            "Country                 object\n",
            "Ethnicity               object\n",
            "Family_History          object\n",
            "Radiation_Exposure      object\n",
            "Iodine_Deficiency       object\n",
            "Smoking                 object\n",
            "Obesity                 object\n",
            "Diabetes                object\n",
            "TSH_Level              float64\n",
            "T3_Level               float64\n",
            "T4_Level               float64\n",
            "Nodule_Size            float64\n",
            "Thyroid_Cancer_Risk     object\n",
            "Diagnosis               object\n",
            "dtype: object\n"
          ]
        }
      ]
    },
    {
      "cell_type": "markdown",
      "source": [
        "## - Cantidad de Valores nulos"
      ],
      "metadata": {
        "id": "vy80qrCXuxBU"
      }
    },
    {
      "cell_type": "markdown",
      "source": [
        "Inicialmente, el enlace de donde se obtuvo el conjunto de datos menciona específicamente que no contiene valores nulos, aún así, el siguiente código hace la comprobación de valores nulos."
      ],
      "metadata": {
        "id": "NxsKF_JHwk-T"
      }
    },
    {
      "cell_type": "code",
      "source": [
        "#Impresión de la cantidad de los valores nulos.\n",
        "print('Cantidad de valores nulos:')\n",
        "print(df.isnull().sum())"
      ],
      "metadata": {
        "colab": {
          "base_uri": "https://localhost:8080/"
        },
        "id": "SEzU7xo2wfL0",
        "outputId": "36002a7f-c4e6-412e-895b-06f6e49e8495"
      },
      "execution_count": null,
      "outputs": [
        {
          "output_type": "stream",
          "name": "stdout",
          "text": [
            "Cantidad de valores nulos:\n",
            "Patient_ID             0\n",
            "Age                    0\n",
            "Gender                 0\n",
            "Country                0\n",
            "Ethnicity              0\n",
            "Family_History         0\n",
            "Radiation_Exposure     0\n",
            "Iodine_Deficiency      0\n",
            "Smoking                0\n",
            "Obesity                0\n",
            "Diabetes               0\n",
            "TSH_Level              0\n",
            "T3_Level               0\n",
            "T4_Level               0\n",
            "Nodule_Size            0\n",
            "Thyroid_Cancer_Risk    0\n",
            "Diagnosis              0\n",
            "dtype: int64\n"
          ]
        }
      ]
    },
    {
      "cell_type": "markdown",
      "source": [
        "##- Explicación sobre cada una de las problemáticas encontradas, las soluciones y el código"
      ],
      "metadata": {
        "id": "5FQh8QHauyY7"
      }
    },
    {
      "cell_type": "markdown",
      "source": [
        "En base a los puntos anteriores, el conjunto de datos presenta una estructura limpia en cuanto a su formato, por lo que no fue requerido implementar técnicas de limpieza de datos. Sin embargo, para reducir el consumo de memoria y tener un mejor manejo de la información, varias de las columnas que tienen tipo de dato \"object\" fuero cambiadas a \"category\", ya que muchas presentan valores similares."
      ],
      "metadata": {
        "id": "XMeUacRry0RW"
      }
    },
    {
      "cell_type": "code",
      "source": [
        "#Impresión de los tipos de datos antes del cambio.\n",
        "print('Tipos de datos y consumo de memoria antes del cambio:')\n",
        "print(df.info())\n",
        "\n",
        "#Modificación del tipo de dato.\n",
        "columnas = ['Gender', 'Country', 'Ethnicity', 'Family_History', 'Radiation_Exposure', 'Iodine_Deficiency', 'Smoking', 'Obesity',\n",
        "            'Diabetes', 'Thyroid_Cancer_Risk', 'Diagnosis']\n",
        "df[columnas] = df[columnas].astype('category')\n",
        "\n",
        "#Impresión de los tipos de datos después del cambio.\n",
        "print('\\nTipos de datos y consumo de memoria después del cambio:')\n",
        "print(df.info())"
      ],
      "metadata": {
        "colab": {
          "base_uri": "https://localhost:8080/"
        },
        "id": "z8RcEwRH0C8v",
        "outputId": "8fef1024-4d14-409b-c746-ac8e391ec2cb"
      },
      "execution_count": null,
      "outputs": [
        {
          "output_type": "stream",
          "name": "stdout",
          "text": [
            "Tipos de datos y consumo de memoria antes del cambio:\n",
            "<class 'pandas.core.frame.DataFrame'>\n",
            "RangeIndex: 212691 entries, 0 to 212690\n",
            "Data columns (total 17 columns):\n",
            " #   Column               Non-Null Count   Dtype  \n",
            "---  ------               --------------   -----  \n",
            " 0   Patient_ID           212691 non-null  int64  \n",
            " 1   Age                  212691 non-null  int64  \n",
            " 2   Gender               212691 non-null  object \n",
            " 3   Country              212691 non-null  object \n",
            " 4   Ethnicity            212691 non-null  object \n",
            " 5   Family_History       212691 non-null  object \n",
            " 6   Radiation_Exposure   212691 non-null  object \n",
            " 7   Iodine_Deficiency    212691 non-null  object \n",
            " 8   Smoking              212691 non-null  object \n",
            " 9   Obesity              212691 non-null  object \n",
            " 10  Diabetes             212691 non-null  object \n",
            " 11  TSH_Level            212691 non-null  float64\n",
            " 12  T3_Level             212691 non-null  float64\n",
            " 13  T4_Level             212691 non-null  float64\n",
            " 14  Nodule_Size          212691 non-null  float64\n",
            " 15  Thyroid_Cancer_Risk  212691 non-null  object \n",
            " 16  Diagnosis            212691 non-null  object \n",
            "dtypes: float64(4), int64(2), object(11)\n",
            "memory usage: 27.6+ MB\n",
            "None\n",
            "\n",
            "Tipos de datos y consumo de memoria después del cambio:\n",
            "<class 'pandas.core.frame.DataFrame'>\n",
            "RangeIndex: 212691 entries, 0 to 212690\n",
            "Data columns (total 17 columns):\n",
            " #   Column               Non-Null Count   Dtype   \n",
            "---  ------               --------------   -----   \n",
            " 0   Patient_ID           212691 non-null  int64   \n",
            " 1   Age                  212691 non-null  int64   \n",
            " 2   Gender               212691 non-null  category\n",
            " 3   Country              212691 non-null  category\n",
            " 4   Ethnicity            212691 non-null  category\n",
            " 5   Family_History       212691 non-null  category\n",
            " 6   Radiation_Exposure   212691 non-null  category\n",
            " 7   Iodine_Deficiency    212691 non-null  category\n",
            " 8   Smoking              212691 non-null  category\n",
            " 9   Obesity              212691 non-null  category\n",
            " 10  Diabetes             212691 non-null  category\n",
            " 11  TSH_Level            212691 non-null  float64 \n",
            " 12  T3_Level             212691 non-null  float64 \n",
            " 13  T4_Level             212691 non-null  float64 \n",
            " 14  Nodule_Size          212691 non-null  float64 \n",
            " 15  Thyroid_Cancer_Risk  212691 non-null  category\n",
            " 16  Diagnosis            212691 non-null  category\n",
            "dtypes: category(11), float64(4), int64(2)\n",
            "memory usage: 12.0 MB\n",
            "None\n"
          ]
        }
      ]
    },
    {
      "cell_type": "markdown",
      "source": [
        "# **4. Análisis Descriptivo de Datos**\n",
        "\n",
        "## - Preguntas a responder con el AD\n",
        "## - Explicación de Estadísticas Básicas Aplicadas, Visualización de Datos con Gráficos, y Resumen de las respuestas"
      ],
      "metadata": {
        "id": "3gERzOTAfuOL"
      }
    },
    {
      "cell_type": "markdown",
      "source": [
        "# **5. Análisis Exploratorio de los Datos**\n",
        "\n",
        "## - Preguntas a responder\n",
        "## - Estadísticas Empleadas, visualización y Resumen de las respuestas encontradas."
      ],
      "metadata": {
        "id": "_s8IXMLsfrI5"
      }
    },
    {
      "cell_type": "markdown",
      "source": [
        "# **6. Análisis Predictivo**\n",
        "\n",
        "## - Preprocesamiento para Análisis Predictivo: Problemas, Técnicas y Código\n",
        "\n",
        "## - Modelado Predictivo\n",
        "### - Modelo elegido y parámetros\n",
        "### - Entrenamiento y Evaluación\n",
        "## - Resultados\n"
      ],
      "metadata": {
        "id": "D8irLVFimFqa"
      }
    },
    {
      "cell_type": "markdown",
      "source": [
        "# **7. Conclusiones y Trabajos Futuros**\n",
        "\n",
        "## - Resumen del trabajo realizado, hallazgos y posibles mejoras"
      ],
      "metadata": {
        "id": "8ESQV5mmmSRI"
      }
    }
  ]
}